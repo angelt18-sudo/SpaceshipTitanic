{
 "cells": [
  {
   "cell_type": "markdown",
   "metadata": {},
   "source": [
    "<a id=\"inicio\"></a>\n",
    "<br><br><br>\n",
    "<h2><font color=\"#B51700\" size=5>Dataset Spaceship Titanic</font></h2>\n",
    "\n",
    "\n",
    "\n",
    "<h1><font size=5>Analisis exploratorio, preprocesamiento de los datos y selección de modelos</font></h1>\n",
    "\n",
    "\n",
    "---"
   ]
  },
  {
   "cell_type": "markdown",
   "metadata": {},
   "source": [
    "# 1. Introducción\n",
    "\n",
    "En este notebook se trabajará con el problema del conjunto de datos `Spaceship Titanic`, el cual ha sido extraido de la competición de `kaggle` [Spaceship Titanic](https://www.kaggle.com/competitions/spaceship-titanic). El objetivo es predecir si unos pasajeros que estaban viajando en una nave espacial llamada Titanic han sido transportados a otra dimensión. Este conjunto de datos es muy útil para aprender a trabajar con problemas de machine learning, ya que cuenta con muchas características típicas de estos problemas que iremos viendo a lo largo del notebook (por ejemplo cuenta con outliers y valores nulos).\n",
    "\n",
    "El objetivo de este notebook es ser bastante completo y que pueda ser usado como guía para trabajar con este tipo de problemas. Primero se realizará un análisis exploratorio (dividido en un análisis univariado y multivariado). De este estudio se extraerán varias conclusiones que nos permitirán realizar un buen preprocesamiento de los datos. Para el preprocesamiento de los datos se utilizará el concepto de `pipeline` para evitar realizar una fuga de datos (evitar introducir información del conjunto de test en el conjunto de entrenamiento). Además, el uso de una `pipeline` nos permite crear un objeto que realizará todas las transformaciones sobre los datos de una vez, lo que reduce la probabilidad de que ocurra un error en este paso. Para crear el `pipeline` se utilizarán componentes de la librería `sklearn` y también crearemos alguno nosotros.\n",
    "\n",
    "Finalmente, se entrenarán varios modelos utilizando una validación cruzada para seleccionar los parámetros que mejor funcionen para cada modelo, y después, se creará un `ensemble` con los modelos que mejor resultados han obtenido para intentar mejorar sus resultados. El objetivo no es obtener un score demasiado alto, sino aprender a trabajar con estos problemas de machine learning. Aún así se han obtenido muy buenos resultados (un 80% de accuracy para los datos de test).\n",
    "\n",
    "Empezaremos importando las librerías necesarias."
   ]
  },
  {
   "cell_type": "code",
   "execution_count": 1,
   "metadata": {
    "_cell_guid": "b1076dfc-b9ad-4769-8c92-a6c4dae69d19",
    "_uuid": "8f2839f25d086af736a60e9eeb907d3b93b6e0e5",
    "execution": {
     "iopub.execute_input": "2023-07-06T18:09:11.861448Z",
     "iopub.status.busy": "2023-07-06T18:09:11.860613Z",
     "iopub.status.idle": "2023-07-06T18:09:12.640646Z",
     "shell.execute_reply": "2023-07-06T18:09:12.639747Z",
     "shell.execute_reply.started": "2023-07-06T18:09:11.861417Z"
    }
   },
   "outputs": [],
   "source": [
    "import pandas as pd\n",
    "import seaborn as sns\n",
    "import matplotlib.pyplot as plt\n",
    "import numpy as np\n",
    "\n",
    "from sklearn.base import BaseEstimator, TransformerMixin\n",
    "from sklearn.utils.validation import check_is_fitted\n",
    "\n",
    "from sklearn.impute import SimpleImputer\n",
    "from sklearn.impute import KNNImputer\n",
    "from sklearn.preprocessing import OneHotEncoder\n",
    "from sklearn.pipeline import Pipeline\n",
    "from sklearn.compose import ColumnTransformer\n",
    "\n",
    "from sklearn.model_selection import GridSearchCV\n",
    "\n",
    "from sklearn.model_selection import train_test_split\n",
    "from sklearn.svm import SVC\n",
    "from sklearn.neighbors import KNeighborsClassifier\n",
    "from sklearn.linear_model import LogisticRegression\n",
    "from sklearn.naive_bayes import GaussianNB\n",
    "from sklearn.tree import DecisionTreeClassifier\n",
    "from sklearn.ensemble import AdaBoostClassifier\n",
    "from sklearn.ensemble import BaggingClassifier\n",
    "from sklearn.ensemble import RandomForestClassifier\n",
    "from sklearn.ensemble import GradientBoostingClassifier\n",
    "from sklearn.ensemble import HistGradientBoostingClassifier\n",
    "\n",
    "from sklearn.ensemble import VotingClassifier\n",
    "from sklearn.metrics import confusion_matrix"
   ]
  },
  {
   "cell_type": "markdown",
   "metadata": {},
   "source": [
    "# 2. Carga de datos\n",
    "\n",
    "Antes de cargar los datos y empezar con el análisis exploratorio se va a establecer una semilla para que los resultados obtenidos a lo largo de la libreta puedan ser reproducibles."
   ]
  },
  {
   "cell_type": "code",
   "execution_count": 2,
   "metadata": {
    "execution": {
     "iopub.execute_input": "2023-07-06T18:09:12.646247Z",
     "iopub.status.busy": "2023-07-06T18:09:12.645945Z",
     "iopub.status.idle": "2023-07-06T18:09:12.651409Z",
     "shell.execute_reply": "2023-07-06T18:09:12.650395Z",
     "shell.execute_reply.started": "2023-07-06T18:09:12.646218Z"
    }
   },
   "outputs": [],
   "source": [
    "seed = 42"
   ]
  },
  {
   "cell_type": "markdown",
   "metadata": {},
   "source": [
    "Se van a cargar los datos de entrenamiento, que serán los que se utilicen para realizar el análisis exploratorio y para el entrenamiento de los modelos."
   ]
  },
  {
   "cell_type": "code",
   "execution_count": 3,
   "metadata": {
    "execution": {
     "iopub.execute_input": "2023-07-06T18:09:12.653162Z",
     "iopub.status.busy": "2023-07-06T18:09:12.652847Z",
     "iopub.status.idle": "2023-07-06T18:09:12.705104Z",
     "shell.execute_reply": "2023-07-06T18:09:12.703903Z",
     "shell.execute_reply.started": "2023-07-06T18:09:12.653133Z"
    }
   },
   "outputs": [],
   "source": [
    "filepath = 'train.csv'\n",
    "index = 'PassengerId'\n",
    "data = pd.read_csv(filepath, index_col=index)"
   ]
  },
  {
   "cell_type": "markdown",
   "metadata": {},
   "source": [
    "Se visualizan algunos registros aleatorios para comprobar que se han cargado los datos correctamente. Mostraremos algunos al azar para evitar obtener una muestra sesgada que no represente al conjunto de datos."
   ]
  },
  {
   "cell_type": "code",
   "execution_count": 4,
   "metadata": {
    "execution": {
     "iopub.execute_input": "2023-07-06T18:09:12.709315Z",
     "iopub.status.busy": "2023-07-06T18:09:12.709003Z",
     "iopub.status.idle": "2023-07-06T18:09:12.735243Z",
     "shell.execute_reply": "2023-07-06T18:09:12.734256Z",
     "shell.execute_reply.started": "2023-07-06T18:09:12.709288Z"
    }
   },
   "outputs": [
    {
     "data": {
      "text/html": [
       "<div>\n",
       "<style scoped>\n",
       "    .dataframe tbody tr th:only-of-type {\n",
       "        vertical-align: middle;\n",
       "    }\n",
       "\n",
       "    .dataframe tbody tr th {\n",
       "        vertical-align: top;\n",
       "    }\n",
       "\n",
       "    .dataframe thead th {\n",
       "        text-align: right;\n",
       "    }\n",
       "</style>\n",
       "<table border=\"1\" class=\"dataframe\">\n",
       "  <thead>\n",
       "    <tr style=\"text-align: right;\">\n",
       "      <th></th>\n",
       "      <th>HomePlanet</th>\n",
       "      <th>CryoSleep</th>\n",
       "      <th>Cabin</th>\n",
       "      <th>Destination</th>\n",
       "      <th>Age</th>\n",
       "      <th>VIP</th>\n",
       "      <th>RoomService</th>\n",
       "      <th>FoodCourt</th>\n",
       "      <th>ShoppingMall</th>\n",
       "      <th>Spa</th>\n",
       "      <th>VRDeck</th>\n",
       "      <th>Name</th>\n",
       "      <th>Transported</th>\n",
       "    </tr>\n",
       "    <tr>\n",
       "      <th>PassengerId</th>\n",
       "      <th></th>\n",
       "      <th></th>\n",
       "      <th></th>\n",
       "      <th></th>\n",
       "      <th></th>\n",
       "      <th></th>\n",
       "      <th></th>\n",
       "      <th></th>\n",
       "      <th></th>\n",
       "      <th></th>\n",
       "      <th></th>\n",
       "      <th></th>\n",
       "      <th></th>\n",
       "    </tr>\n",
       "  </thead>\n",
       "  <tbody>\n",
       "    <tr>\n",
       "      <th>0337_02</th>\n",
       "      <td>Mars</td>\n",
       "      <td>False</td>\n",
       "      <td>F/63/S</td>\n",
       "      <td>TRAPPIST-1e</td>\n",
       "      <td>19.0</td>\n",
       "      <td>False</td>\n",
       "      <td>417.0</td>\n",
       "      <td>349.0</td>\n",
       "      <td>634.0</td>\n",
       "      <td>3.0</td>\n",
       "      <td>1057.0</td>\n",
       "      <td>Weros Perle</td>\n",
       "      <td>True</td>\n",
       "    </tr>\n",
       "    <tr>\n",
       "      <th>2891_01</th>\n",
       "      <td>Earth</td>\n",
       "      <td>False</td>\n",
       "      <td>G/460/S</td>\n",
       "      <td>TRAPPIST-1e</td>\n",
       "      <td>18.0</td>\n",
       "      <td>False</td>\n",
       "      <td>4.0</td>\n",
       "      <td>904.0</td>\n",
       "      <td>0.0</td>\n",
       "      <td>0.0</td>\n",
       "      <td>1.0</td>\n",
       "      <td>Gleney Ortinericey</td>\n",
       "      <td>False</td>\n",
       "    </tr>\n",
       "    <tr>\n",
       "      <th>8998_01</th>\n",
       "      <td>Earth</td>\n",
       "      <td>True</td>\n",
       "      <td>G/1449/S</td>\n",
       "      <td>TRAPPIST-1e</td>\n",
       "      <td>41.0</td>\n",
       "      <td>False</td>\n",
       "      <td>0.0</td>\n",
       "      <td>0.0</td>\n",
       "      <td>0.0</td>\n",
       "      <td>0.0</td>\n",
       "      <td>0.0</td>\n",
       "      <td>Gerry Englence</td>\n",
       "      <td>False</td>\n",
       "    </tr>\n",
       "    <tr>\n",
       "      <th>1771_01</th>\n",
       "      <td>Earth</td>\n",
       "      <td>False</td>\n",
       "      <td>G/291/P</td>\n",
       "      <td>TRAPPIST-1e</td>\n",
       "      <td>35.0</td>\n",
       "      <td>False</td>\n",
       "      <td>0.0</td>\n",
       "      <td>338.0</td>\n",
       "      <td>436.0</td>\n",
       "      <td>NaN</td>\n",
       "      <td>0.0</td>\n",
       "      <td>Antone Cardner</td>\n",
       "      <td>True</td>\n",
       "    </tr>\n",
       "    <tr>\n",
       "      <th>9034_02</th>\n",
       "      <td>Europa</td>\n",
       "      <td>True</td>\n",
       "      <td>D/288/P</td>\n",
       "      <td>TRAPPIST-1e</td>\n",
       "      <td>43.0</td>\n",
       "      <td>False</td>\n",
       "      <td>0.0</td>\n",
       "      <td>0.0</td>\n",
       "      <td>0.0</td>\n",
       "      <td>0.0</td>\n",
       "      <td>0.0</td>\n",
       "      <td>Errairk Crakete</td>\n",
       "      <td>True</td>\n",
       "    </tr>\n",
       "  </tbody>\n",
       "</table>\n",
       "</div>"
      ],
      "text/plain": [
       "            HomePlanet CryoSleep     Cabin  Destination   Age    VIP  \\\n",
       "PassengerId                                                            \n",
       "0337_02           Mars     False    F/63/S  TRAPPIST-1e  19.0  False   \n",
       "2891_01          Earth     False   G/460/S  TRAPPIST-1e  18.0  False   \n",
       "8998_01          Earth      True  G/1449/S  TRAPPIST-1e  41.0  False   \n",
       "1771_01          Earth     False   G/291/P  TRAPPIST-1e  35.0  False   \n",
       "9034_02         Europa      True   D/288/P  TRAPPIST-1e  43.0  False   \n",
       "\n",
       "             RoomService  FoodCourt  ShoppingMall  Spa  VRDeck  \\\n",
       "PassengerId                                                      \n",
       "0337_02            417.0      349.0         634.0  3.0  1057.0   \n",
       "2891_01              4.0      904.0           0.0  0.0     1.0   \n",
       "8998_01              0.0        0.0           0.0  0.0     0.0   \n",
       "1771_01              0.0      338.0         436.0  NaN     0.0   \n",
       "9034_02              0.0        0.0           0.0  0.0     0.0   \n",
       "\n",
       "                           Name  Transported  \n",
       "PassengerId                                   \n",
       "0337_02             Weros Perle         True  \n",
       "2891_01      Gleney Ortinericey        False  \n",
       "8998_01          Gerry Englence        False  \n",
       "1771_01          Antone Cardner         True  \n",
       "9034_02         Errairk Crakete         True  "
      ]
     },
     "execution_count": 4,
     "metadata": {},
     "output_type": "execute_result"
    }
   ],
   "source": [
    "data.sample(5, random_state=seed)"
   ]
  },
  {
   "cell_type": "markdown",
   "metadata": {},
   "source": [
    "# 3. Análisis exploratorio\n",
    "\n",
    "Para comenzar con el análisis exploratorio, primero vamos a visualizar la información general del dataset."
   ]
  },
  {
   "cell_type": "code",
   "execution_count": 5,
   "metadata": {
    "execution": {
     "iopub.execute_input": "2023-07-06T18:09:12.736978Z",
     "iopub.status.busy": "2023-07-06T18:09:12.736584Z",
     "iopub.status.idle": "2023-07-06T18:09:12.768688Z",
     "shell.execute_reply": "2023-07-06T18:09:12.767665Z",
     "shell.execute_reply.started": "2023-07-06T18:09:12.736942Z"
    }
   },
   "outputs": [
    {
     "name": "stdout",
     "output_type": "stream",
     "text": [
      "<class 'pandas.core.frame.DataFrame'>\n",
      "Index: 8693 entries, 0001_01 to 9280_02\n",
      "Data columns (total 13 columns):\n",
      " #   Column        Non-Null Count  Dtype  \n",
      "---  ------        --------------  -----  \n",
      " 0   HomePlanet    8492 non-null   object \n",
      " 1   CryoSleep     8476 non-null   object \n",
      " 2   Cabin         8494 non-null   object \n",
      " 3   Destination   8511 non-null   object \n",
      " 4   Age           8514 non-null   float64\n",
      " 5   VIP           8490 non-null   object \n",
      " 6   RoomService   8512 non-null   float64\n",
      " 7   FoodCourt     8510 non-null   float64\n",
      " 8   ShoppingMall  8485 non-null   float64\n",
      " 9   Spa           8510 non-null   float64\n",
      " 10  VRDeck        8505 non-null   float64\n",
      " 11  Name          8493 non-null   object \n",
      " 12  Transported   8693 non-null   bool   \n",
      "dtypes: bool(1), float64(6), object(6)\n",
      "memory usage: 891.4+ KB\n"
     ]
    }
   ],
   "source": [
    "data.info()"
   ]
  },
  {
   "cell_type": "markdown",
   "metadata": {},
   "source": [
    "Podemos ver que contamos con 8693 registros para el entrenamiento. También se obtiene la siguiente información sobre las variables del dataset:\n",
    "\n",
    "* ***HomePlanet***: tiene valores nulos. Tipo object.\n",
    "* ***CryoSleep***: tiene valores nulos. Tipo object.\n",
    "* ***Cabin***: tiene valores nulos. Tipo object.\n",
    "* ***Destination***: tiene valores nulos. Tipo object.\n",
    "* ***Age***: tiene valores nulos. Tipo float64.\n",
    "* ***VIP***: tiene valores nulos. Tipo object.\n",
    "* ***RoomService***: tiene valores nulos. Tipo float64.\n",
    "* ***FoodCourt***: tiene valores nulos. Tipo float64.\n",
    "* ***ShoppingMall***: tiene valores nulos. Tipo float64.\n",
    "* ***Spa***: tiene valores nulos. Tipo float64.\n",
    "* ***VRDeck***: tiene valores nulos. Tipo float64.\n",
    "* ***Name***: tiene valores nulos. Tipo object.\n",
    "* ***Transported***: es la variable clase. Tipo bool.\n",
    "\n",
    "Podemos ver el porcentaje de valores nulos que hay en el conjunto de datos."
   ]
  },
  {
   "cell_type": "code",
   "execution_count": 6,
   "metadata": {
    "execution": {
     "iopub.execute_input": "2023-07-06T18:09:12.770316Z",
     "iopub.status.busy": "2023-07-06T18:09:12.769981Z",
     "iopub.status.idle": "2023-07-06T18:09:12.797586Z",
     "shell.execute_reply": "2023-07-06T18:09:12.796784Z",
     "shell.execute_reply.started": "2023-07-06T18:09:12.770287Z"
    }
   },
   "outputs": [
    {
     "data": {
      "text/plain": [
       "HomePlanet      2.312205\n",
       "CryoSleep       2.496261\n",
       "Cabin           2.289198\n",
       "Destination     2.093639\n",
       "Age             2.059128\n",
       "VIP             2.335212\n",
       "RoomService     2.082135\n",
       "FoodCourt       2.105142\n",
       "ShoppingMall    2.392730\n",
       "Spa             2.105142\n",
       "VRDeck          2.162660\n",
       "Name            2.300702\n",
       "dtype: float64"
      ]
     },
     "execution_count": 6,
     "metadata": {},
     "output_type": "execute_result"
    }
   ],
   "source": [
    "missing_values=data.isnull().sum()\n",
    "missing_values[missing_values>0]/len(data)*100"
   ]
  },
  {
   "cell_type": "markdown",
   "metadata": {},
   "source": [
    "Vemos que todas las variables contienen algún valor nulo, aunque ninguna tiene más del 3% de sus datos como valores nulos."
   ]
  },
  {
   "cell_type": "markdown",
   "metadata": {},
   "source": [
    "## 3.1. Análisis univariado\n",
    "\n",
    "Vamos a empezar obteniendo un resumen de la información de los campos numéricos."
   ]
  },
  {
   "cell_type": "code",
   "execution_count": 7,
   "metadata": {
    "execution": {
     "iopub.execute_input": "2023-07-06T18:09:12.799751Z",
     "iopub.status.busy": "2023-07-06T18:09:12.798820Z",
     "iopub.status.idle": "2023-07-06T18:09:12.834337Z",
     "shell.execute_reply": "2023-07-06T18:09:12.833279Z",
     "shell.execute_reply.started": "2023-07-06T18:09:12.799720Z"
    }
   },
   "outputs": [
    {
     "data": {
      "text/html": [
       "<div>\n",
       "<style scoped>\n",
       "    .dataframe tbody tr th:only-of-type {\n",
       "        vertical-align: middle;\n",
       "    }\n",
       "\n",
       "    .dataframe tbody tr th {\n",
       "        vertical-align: top;\n",
       "    }\n",
       "\n",
       "    .dataframe thead th {\n",
       "        text-align: right;\n",
       "    }\n",
       "</style>\n",
       "<table border=\"1\" class=\"dataframe\">\n",
       "  <thead>\n",
       "    <tr style=\"text-align: right;\">\n",
       "      <th></th>\n",
       "      <th>Age</th>\n",
       "      <th>RoomService</th>\n",
       "      <th>FoodCourt</th>\n",
       "      <th>ShoppingMall</th>\n",
       "      <th>Spa</th>\n",
       "      <th>VRDeck</th>\n",
       "    </tr>\n",
       "  </thead>\n",
       "  <tbody>\n",
       "    <tr>\n",
       "      <th>count</th>\n",
       "      <td>8514.000000</td>\n",
       "      <td>8512.000000</td>\n",
       "      <td>8510.000000</td>\n",
       "      <td>8485.000000</td>\n",
       "      <td>8510.000000</td>\n",
       "      <td>8505.000000</td>\n",
       "    </tr>\n",
       "    <tr>\n",
       "      <th>mean</th>\n",
       "      <td>28.827930</td>\n",
       "      <td>224.687617</td>\n",
       "      <td>458.077203</td>\n",
       "      <td>173.729169</td>\n",
       "      <td>311.138778</td>\n",
       "      <td>304.854791</td>\n",
       "    </tr>\n",
       "    <tr>\n",
       "      <th>std</th>\n",
       "      <td>14.489021</td>\n",
       "      <td>666.717663</td>\n",
       "      <td>1611.489240</td>\n",
       "      <td>604.696458</td>\n",
       "      <td>1136.705535</td>\n",
       "      <td>1145.717189</td>\n",
       "    </tr>\n",
       "    <tr>\n",
       "      <th>min</th>\n",
       "      <td>0.000000</td>\n",
       "      <td>0.000000</td>\n",
       "      <td>0.000000</td>\n",
       "      <td>0.000000</td>\n",
       "      <td>0.000000</td>\n",
       "      <td>0.000000</td>\n",
       "    </tr>\n",
       "    <tr>\n",
       "      <th>25%</th>\n",
       "      <td>19.000000</td>\n",
       "      <td>0.000000</td>\n",
       "      <td>0.000000</td>\n",
       "      <td>0.000000</td>\n",
       "      <td>0.000000</td>\n",
       "      <td>0.000000</td>\n",
       "    </tr>\n",
       "    <tr>\n",
       "      <th>50%</th>\n",
       "      <td>27.000000</td>\n",
       "      <td>0.000000</td>\n",
       "      <td>0.000000</td>\n",
       "      <td>0.000000</td>\n",
       "      <td>0.000000</td>\n",
       "      <td>0.000000</td>\n",
       "    </tr>\n",
       "    <tr>\n",
       "      <th>75%</th>\n",
       "      <td>38.000000</td>\n",
       "      <td>47.000000</td>\n",
       "      <td>76.000000</td>\n",
       "      <td>27.000000</td>\n",
       "      <td>59.000000</td>\n",
       "      <td>46.000000</td>\n",
       "    </tr>\n",
       "    <tr>\n",
       "      <th>max</th>\n",
       "      <td>79.000000</td>\n",
       "      <td>14327.000000</td>\n",
       "      <td>29813.000000</td>\n",
       "      <td>23492.000000</td>\n",
       "      <td>22408.000000</td>\n",
       "      <td>24133.000000</td>\n",
       "    </tr>\n",
       "  </tbody>\n",
       "</table>\n",
       "</div>"
      ],
      "text/plain": [
       "               Age   RoomService     FoodCourt  ShoppingMall           Spa  \\\n",
       "count  8514.000000   8512.000000   8510.000000   8485.000000   8510.000000   \n",
       "mean     28.827930    224.687617    458.077203    173.729169    311.138778   \n",
       "std      14.489021    666.717663   1611.489240    604.696458   1136.705535   \n",
       "min       0.000000      0.000000      0.000000      0.000000      0.000000   \n",
       "25%      19.000000      0.000000      0.000000      0.000000      0.000000   \n",
       "50%      27.000000      0.000000      0.000000      0.000000      0.000000   \n",
       "75%      38.000000     47.000000     76.000000     27.000000     59.000000   \n",
       "max      79.000000  14327.000000  29813.000000  23492.000000  22408.000000   \n",
       "\n",
       "             VRDeck  \n",
       "count   8505.000000  \n",
       "mean     304.854791  \n",
       "std     1145.717189  \n",
       "min        0.000000  \n",
       "25%        0.000000  \n",
       "50%        0.000000  \n",
       "75%       46.000000  \n",
       "max    24133.000000  "
      ]
     },
     "execution_count": 7,
     "metadata": {},
     "output_type": "execute_result"
    }
   ],
   "source": [
    "data.describe()"
   ]
  },
  {
   "cell_type": "markdown",
   "metadata": {},
   "source": [
    "Con esta instrucción se obtiene información muy útil de todas las variables numéricas, como su valor máximo o su media.\n",
    "\n",
    "También nos permite detectar la presencia de outliers mediante el uso de los cuartiles y el valor máximo. Por ejemplo, para la variable `RoomService` observamos que el 75% de los datos tiene un valor inferior a 47, y sin embargo existe un valor máximo de 29813, siendo este claramente un outlier. Se ha detectado la presencia de algún outlier en todas las variables numéricas.\n",
    "\n",
    "Vamos a visualizar la cantidad de outliers que presentan estas variables."
   ]
  },
  {
   "cell_type": "code",
   "execution_count": 8,
   "metadata": {
    "execution": {
     "iopub.execute_input": "2023-07-06T18:09:12.836340Z",
     "iopub.status.busy": "2023-07-06T18:09:12.835546Z",
     "iopub.status.idle": "2023-07-06T18:09:13.683227Z",
     "shell.execute_reply": "2023-07-06T18:09:13.682444Z",
     "shell.execute_reply.started": "2023-07-06T18:09:12.836299Z"
    }
   },
   "outputs": [
    {
     "data": {
      "image/png": "[encoded data removed]",
      "text/plain": [
       "<Figure size 1152x360 with 6 Axes>"
      ]
     },
     "metadata": {
      "needs_background": "light"
     },
     "output_type": "display_data"
    }
   ],
   "source": [
    "plt.figure(figsize=(16,5))\n",
    "\n",
    "features_outlier = ['Age', 'RoomService', 'FoodCourt', 'ShoppingMall', 'Spa', 'VRDeck']\n",
    "for i,col in enumerate(features_outlier):    \n",
    "    plt.subplot(2,3,i + 1)\n",
    "    sns.boxplot(y=col, x='Transported', data=data)\n",
    "\n",
    "plt.show()"
   ]
  },
  {
   "cell_type": "markdown",
   "metadata": {},
   "source": [
    "Vamos a calcular cuantos outliers hay para cada una de estas variables:"
   ]
  },
  {
   "cell_type": "code",
   "execution_count": 9,
   "metadata": {
    "execution": {
     "iopub.execute_input": "2023-07-06T18:09:13.685620Z",
     "iopub.status.busy": "2023-07-06T18:09:13.684608Z",
     "iopub.status.idle": "2023-07-06T18:09:13.693449Z",
     "shell.execute_reply": "2023-07-06T18:09:13.692542Z",
     "shell.execute_reply.started": "2023-07-06T18:09:13.685577Z"
    }
   },
   "outputs": [],
   "source": [
    "def outlier_detect(feature, data):\n",
    "    outlier_index = {}\n",
    "\n",
    "    for col in feature:\n",
    "        Q1 = np.nanpercentile(data[col], 25)\n",
    "        Q3 = np.nanpercentile(data[col], 75)\n",
    "        IQR = Q3 - Q1\n",
    "        min_quartile = Q1 - 1.5*IQR\n",
    "        max_quartile = Q3 + 1.5*IQR\n",
    "        outlier_points = data[(data[col] < min_quartile) | (data[col] > max_quartile)]\n",
    "        outlier_index[col] = outlier_points[col]\n",
    "    return outlier_index"
   ]
  },
  {
   "cell_type": "code",
   "execution_count": 10,
   "metadata": {
    "execution": {
     "iopub.execute_input": "2023-07-06T18:09:13.695367Z",
     "iopub.status.busy": "2023-07-06T18:09:13.694768Z",
     "iopub.status.idle": "2023-07-06T18:09:13.719901Z",
     "shell.execute_reply": "2023-07-06T18:09:13.719084Z",
     "shell.execute_reply.started": "2023-07-06T18:09:13.695328Z"
    }
   },
   "outputs": [
    {
     "name": "stdout",
     "output_type": "stream",
     "text": [
      "Age :  77  outliers\n",
      "RoomService :  1861  outliers\n",
      "FoodCourt :  1823  outliers\n",
      "ShoppingMall :  1829  outliers\n",
      "Spa :  1788  outliers\n",
      "VRDeck :  1809  outliers\n"
     ]
    }
   ],
   "source": [
    "outliers = outlier_detect(features_outlier, data)\n",
    "\n",
    "for col in outliers:\n",
    "    print(col, ': ',len(outliers[col]) , ' outliers')"
   ]
  },
  {
   "cell_type": "markdown",
   "metadata": {},
   "source": [
    "Todas estas variables cuentan con bastantes outliers.\n",
    "\n",
    "Vamos a estudiar cada variable de forma independiente y como se relaciona cada variable con la variable clase, pero sin tener en cuenta la relación entre varias variables (análisis univariado).\n",
    "\n",
    "Para ello primero se va a definir una función llamada `categorical_plot`, que generará dos gráficos para las variables categóricas.\n",
    "\n",
    "* El primer gráfico muestra la cantidad de valores que tiene cada categoría de la variable.\n",
    "* El segundo gráfico muestra la relación entre la variable clase y la variable categórica indicada."
   ]
  },
  {
   "cell_type": "code",
   "execution_count": 11,
   "metadata": {
    "execution": {
     "iopub.execute_input": "2023-07-06T18:09:13.721844Z",
     "iopub.status.busy": "2023-07-06T18:09:13.721134Z",
     "iopub.status.idle": "2023-07-06T18:09:13.729843Z",
     "shell.execute_reply": "2023-07-06T18:09:13.728892Z",
     "shell.execute_reply.started": "2023-07-06T18:09:13.721804Z"
    }
   },
   "outputs": [],
   "source": [
    "def categorical_plot(data, x, y):\n",
    "    fig, axes = plt.subplots(1, 2, figsize=(10, 4))\n",
    "\n",
    "    sns.countplot(x=x, data=data, ax=axes[0])\n",
    "    axes[0].set_title('Count Plot')\n",
    "\n",
    "    sns.barplot(x=x, y=y, data=data, ax=axes[1])\n",
    "    axes[1].set_title('Bar Plot')\n",
    "\n",
    "    plt.tight_layout()\n",
    "    plt.show()"
   ]
  },
  {
   "cell_type": "markdown",
   "metadata": {},
   "source": [
    "### Transported\n",
    "\n",
    "Primero vamos a ver la variable clase, que como observamos es una variable categórica que puede tomar los valores true (pasajero se transportó a otra dimensión) y false (no se transportó). Tenemos un dataset balanceado, en el que hay una cantidad similar de casos true que false."
   ]
  },
  {
   "cell_type": "code",
   "execution_count": 12,
   "metadata": {
    "execution": {
     "iopub.execute_input": "2023-07-06T18:09:13.731491Z",
     "iopub.status.busy": "2023-07-06T18:09:13.731057Z",
     "iopub.status.idle": "2023-07-06T18:09:13.952058Z",
     "shell.execute_reply": "2023-07-06T18:09:13.950954Z",
     "shell.execute_reply.started": "2023-07-06T18:09:13.731461Z"
    }
   },
   "outputs": [
    {
     "data": {
      "text/plain": [
       "<AxesSubplot:xlabel='Transported', ylabel='count'>"
      ]
     },
     "execution_count": 12,
     "metadata": {},
     "output_type": "execute_result"
    },
    {
     "data": {
      "image/png": "[encoded data removed]",
      "text/plain": [
       "<Figure size 432x288 with 1 Axes>"
      ]
     },
     "metadata": {
      "needs_background": "light"
     },
     "output_type": "display_data"
    }
   ],
   "source": [
    "sns.countplot(x='Transported',data=data)"
   ]
  },
  {
   "cell_type": "code",
   "execution_count": 13,
   "metadata": {
    "execution": {
     "iopub.execute_input": "2023-07-06T18:09:13.957732Z",
     "iopub.status.busy": "2023-07-06T18:09:13.957386Z",
     "iopub.status.idle": "2023-07-06T18:09:13.965107Z",
     "shell.execute_reply": "2023-07-06T18:09:13.964428Z",
     "shell.execute_reply.started": "2023-07-06T18:09:13.957704Z"
    }
   },
   "outputs": [
    {
     "data": {
      "text/plain": [
       "True     4378\n",
       "False    4315\n",
       "Name: Transported, dtype: int64"
      ]
     },
     "execution_count": 13,
     "metadata": {},
     "output_type": "execute_result"
    }
   ],
   "source": [
    "data['Transported'].value_counts()"
   ]
  },
  {
   "cell_type": "markdown",
   "metadata": {},
   "source": [
    "### HomePlanet\n",
    "\n",
    "Vamos a analizar la variable `HomePlanet` que almacena el planeta del que partió el pasajero. Es una variable categórica que puede tomar los valores `Europa`, `Earth` y `Mars`.\n",
    "\n",
    "Vemos que hay muchos mas pasajeros del planeta `Earth` que de los otros dos.\n",
    "\n",
    "Parece que hay alguna relación directa entre la variable clase `Transported` y la variable `HomePlanet`. Observamos que se transportaron más pasajeros de Europa que de los otros planetas."
   ]
  },
  {
   "cell_type": "code",
   "execution_count": 14,
   "metadata": {
    "execution": {
     "iopub.execute_input": "2023-07-06T18:09:13.967084Z",
     "iopub.status.busy": "2023-07-06T18:09:13.966206Z",
     "iopub.status.idle": "2023-07-06T18:09:14.676536Z",
     "shell.execute_reply": "2023-07-06T18:09:14.675438Z",
     "shell.execute_reply.started": "2023-07-06T18:09:13.967055Z"
    }
   },
   "outputs": [
    {
     "data": {
      "image/png": "[encoded data removed]",
      "text/plain": [
       "<Figure size 720x288 with 2 Axes>"
      ]
     },
     "metadata": {
      "needs_background": "light"
     },
     "output_type": "display_data"
    }
   ],
   "source": [
    "categorical_plot(data, 'HomePlanet', 'Transported')"
   ]
  },
  {
   "cell_type": "markdown",
   "metadata": {},
   "source": [
    "### CryoSleep\n",
    "\n",
    "La variable `CryoSleep` indica si el pasajero ha permanecido en animación suspendida durante el viaje. Estos pasajeros en criosueño están confinados en sus camarotes (puede que haya alguna relación entre esta variable y los camarotes).\n",
    "\n",
    "Observamos que hay muchos más pasajeros que no han permanecido en animación suspendida.\n",
    "\n",
    "Hay una relación directa con la variable clase. La mayoría de los pasajeros que permanecieron en animación suspendida han sido transportados a otra dimensión."
   ]
  },
  {
   "cell_type": "code",
   "execution_count": 15,
   "metadata": {
    "execution": {
     "iopub.execute_input": "2023-07-06T18:09:14.678883Z",
     "iopub.status.busy": "2023-07-06T18:09:14.678402Z",
     "iopub.status.idle": "2023-07-06T18:09:15.372828Z",
     "shell.execute_reply": "2023-07-06T18:09:15.371874Z",
     "shell.execute_reply.started": "2023-07-06T18:09:14.678837Z"
    }
   },
   "outputs": [
    {
     "data": {
      "image/png": "[encoded data removed]",
      "text/plain": [
       "<Figure size 720x288 with 2 Axes>"
      ]
     },
     "metadata": {
      "needs_background": "light"
     },
     "output_type": "display_data"
    }
   ],
   "source": [
    "categorical_plot(data, 'CryoSleep', 'Transported')"
   ]
  },
  {
   "cell_type": "markdown",
   "metadata": {},
   "source": [
    "### Cabin\n",
    "\n",
    "Representa el número de la cabina donde estuvo el pasajero. Tiene la forma deck/num/side, `side` puede ser `P` (puerto) o `S` (estribor). A priori esta variable no aporta información útil, aunque se pueden obtener varias características a partir de ella que aportan información útil para este problema."
   ]
  },
  {
   "cell_type": "code",
   "execution_count": 16,
   "metadata": {
    "execution": {
     "iopub.execute_input": "2023-07-06T18:09:15.374497Z",
     "iopub.status.busy": "2023-07-06T18:09:15.374117Z",
     "iopub.status.idle": "2023-07-06T18:09:15.388886Z",
     "shell.execute_reply": "2023-07-06T18:09:15.387999Z",
     "shell.execute_reply.started": "2023-07-06T18:09:15.374466Z"
    }
   },
   "outputs": [
    {
     "data": {
      "text/plain": [
       "G/734/S     8\n",
       "G/109/P     7\n",
       "B/201/P     7\n",
       "G/1368/P    7\n",
       "G/981/S     7\n",
       "           ..\n",
       "G/556/P     1\n",
       "E/231/S     1\n",
       "G/545/S     1\n",
       "G/543/S     1\n",
       "F/947/P     1\n",
       "Name: Cabin, Length: 6560, dtype: int64"
      ]
     },
     "execution_count": 16,
     "metadata": {},
     "output_type": "execute_result"
    }
   ],
   "source": [
    "data['Cabin'].value_counts()"
   ]
  },
  {
   "cell_type": "markdown",
   "metadata": {},
   "source": [
    "### Destination\n",
    "\n",
    "Indica el planeta al que se dirigía el pasajero. Es una variable categórica con tres posibles valores. \n",
    "\n",
    "Observamos que la mayoría de los pasajeros se dirigían a `TRAPPIST-1e`. \n",
    "\n",
    "Esta variable no parece tener mucha relación directa con la variable clase, ya que se transportaron el 50% de los pasajeros, independientemente del destino al que se dirigían."
   ]
  },
  {
   "cell_type": "code",
   "execution_count": 17,
   "metadata": {
    "execution": {
     "iopub.execute_input": "2023-07-06T18:09:15.391110Z",
     "iopub.status.busy": "2023-07-06T18:09:15.390267Z",
     "iopub.status.idle": "2023-07-06T18:09:16.112181Z",
     "shell.execute_reply": "2023-07-06T18:09:16.111076Z",
     "shell.execute_reply.started": "2023-07-06T18:09:15.391080Z"
    }
   },
   "outputs": [
    {
     "data": {
      "image/png": "[encoded data removed]",
      "text/plain": [
       "<Figure size 720x288 with 2 Axes>"
      ]
     },
     "metadata": {
      "needs_background": "light"
     },
     "output_type": "display_data"
    }
   ],
   "source": [
    "categorical_plot(data, 'Destination', 'Transported')"
   ]
  },
  {
   "cell_type": "markdown",
   "metadata": {},
   "source": [
    "### Age\n",
    "\n",
    "Indica la edad del pasajero y es una variable numérica. La mayoría de los pasajeros tenían entre 18 y 50 años. Sigue una distribución normal."
   ]
  },
  {
   "cell_type": "code",
   "execution_count": 18,
   "metadata": {},
   "outputs": [
    {
     "data": {
      "text/plain": [
       "<AxesSubplot:xlabel='Age', ylabel='Density'>"
      ]
     },
     "execution_count": 18,
     "metadata": {},
     "output_type": "execute_result"
    },
    {
     "data": {
      "image/png": "[encoded data removed]",
      "text/plain": [
       "<Figure size 432x288 with 1 Axes>"
      ]
     },
     "metadata": {
      "needs_background": "light"
     },
     "output_type": "display_data"
    }
   ],
   "source": [
    "sns.histplot(data['Age'], kde=True, stat='density')"
   ]
  },
  {
   "cell_type": "markdown",
   "metadata": {},
   "source": [
    "### VIP\n",
    "\n",
    "Indica si el pasajero tenía un billete VIP.\n",
    "\n",
    "La mayoría de los pasajeros no tenían los servicios VIP (al haber tampocos casos de pasajeros con servicios VIP convendría eliminar la variable, ya que no aporta mucha información).\n",
    "\n",
    "Parece que hay una relación directa entre esta varialbe y la variable clase, debido a que los pasajeros que no tenían servicios VIP se han transportado más."
   ]
  },
  {
   "cell_type": "code",
   "execution_count": 19,
   "metadata": {
    "execution": {
     "iopub.execute_input": "2023-07-06T18:09:16.763168Z",
     "iopub.status.busy": "2023-07-06T18:09:16.762736Z",
     "iopub.status.idle": "2023-07-06T18:09:17.475202Z",
     "shell.execute_reply": "2023-07-06T18:09:17.474120Z",
     "shell.execute_reply.started": "2023-07-06T18:09:16.763128Z"
    }
   },
   "outputs": [
    {
     "data": {
      "image/png": "[encoded data removed]",
      "text/plain": [
       "<Figure size 720x288 with 2 Axes>"
      ]
     },
     "metadata": {
      "needs_background": "light"
     },
     "output_type": "display_data"
    }
   ],
   "source": [
    "categorical_plot(data, 'VIP', 'Transported')"
   ]
  },
  {
   "cell_type": "markdown",
   "metadata": {},
   "source": [
    "### RoomService\n",
    "\n",
    "Es la cantidad de dinero que los pasajeros se han gastado en servicios de habitaciones."
   ]
  },
  {
   "cell_type": "code",
   "execution_count": 20,
   "metadata": {
    "execution": {
     "iopub.execute_input": "2023-07-06T18:09:17.477010Z",
     "iopub.status.busy": "2023-07-06T18:09:17.476708Z",
     "iopub.status.idle": "2023-07-06T18:09:17.965506Z",
     "shell.execute_reply": "2023-07-06T18:09:17.964365Z",
     "shell.execute_reply.started": "2023-07-06T18:09:17.476981Z"
    }
   },
   "outputs": [
    {
     "data": {
      "image/png": "[encoded data removed]",
      "text/plain": [
       "<Figure size 432x288 with 1 Axes>"
      ]
     },
     "metadata": {
      "needs_background": "light"
     },
     "output_type": "display_data"
    }
   ],
   "source": [
    "sns.histplot(data['RoomService'], kde=True, stat='density')\n",
    "plt.ylim(0, 0.003)\n",
    "plt.show()"
   ]
  },
  {
   "cell_type": "markdown",
   "metadata": {},
   "source": [
    "### FoodCourt\n",
    "\n",
    "Cantidad de dinero que los pasajeros se han gastado en comidas."
   ]
  },
  {
   "cell_type": "code",
   "execution_count": 21,
   "metadata": {
    "execution": {
     "iopub.execute_input": "2023-07-06T18:09:17.967356Z",
     "iopub.status.busy": "2023-07-06T18:09:17.967034Z",
     "iopub.status.idle": "2023-07-06T18:09:18.414843Z",
     "shell.execute_reply": "2023-07-06T18:09:18.413784Z",
     "shell.execute_reply.started": "2023-07-06T18:09:17.967326Z"
    }
   },
   "outputs": [
    {
     "data": {
      "image/png": "[encoded data removed]",
      "text/plain": [
       "<Figure size 432x288 with 1 Axes>"
      ]
     },
     "metadata": {
      "needs_background": "light"
     },
     "output_type": "display_data"
    }
   ],
   "source": [
    "sns.histplot(data['FoodCourt'], kde=True, stat='density')\n",
    "plt.ylim(0, 0.0015)\n",
    "plt.show()"
   ]
  },
  {
   "cell_type": "markdown",
   "metadata": {},
   "source": [
    "### ShoppingMall\n",
    "\n",
    "Cantidad de dinero que los pasajeros se han gastado en ir de compras."
   ]
  },
  {
   "cell_type": "code",
   "execution_count": 22,
   "metadata": {
    "execution": {
     "iopub.execute_input": "2023-07-06T18:09:18.417289Z",
     "iopub.status.busy": "2023-07-06T18:09:18.416607Z",
     "iopub.status.idle": "2023-07-06T18:09:18.839774Z",
     "shell.execute_reply": "2023-07-06T18:09:18.838706Z",
     "shell.execute_reply.started": "2023-07-06T18:09:18.417250Z"
    }
   },
   "outputs": [
    {
     "data": {
      "image/png": "[encoded data removed]",
      "text/plain": [
       "<Figure size 432x288 with 1 Axes>"
      ]
     },
     "metadata": {
      "needs_background": "light"
     },
     "output_type": "display_data"
    }
   ],
   "source": [
    "sns.histplot(data['ShoppingMall'], kde=True, stat='density')\n",
    "plt.ylim(0, 0.003)\n",
    "plt.show()"
   ]
  },
  {
   "cell_type": "markdown",
   "metadata": {},
   "source": [
    "### Spa\n",
    "\n",
    "Cantidad de dinero que los pasajeros se han gastado en el spa."
   ]
  },
  {
   "cell_type": "code",
   "execution_count": 23,
   "metadata": {
    "execution": {
     "iopub.execute_input": "2023-07-06T18:09:18.842206Z",
     "iopub.status.busy": "2023-07-06T18:09:18.841529Z",
     "iopub.status.idle": "2023-07-06T18:09:19.279406Z",
     "shell.execute_reply": "2023-07-06T18:09:19.278140Z",
     "shell.execute_reply.started": "2023-07-06T18:09:18.842163Z"
    }
   },
   "outputs": [
    {
     "data": {
      "image/png": "[encoded data removed]",
      "text/plain": [
       "<Figure size 432x288 with 1 Axes>"
      ]
     },
     "metadata": {
      "needs_background": "light"
     },
     "output_type": "display_data"
    }
   ],
   "source": [
    "sns.histplot(data['Spa'], kde=True, stat='density')\n",
    "plt.ylim(0, 0.00175)\n",
    "plt.show()"
   ]
  },
  {
   "cell_type": "markdown",
   "metadata": {},
   "source": [
    "### VRDeck\n",
    "\n",
    "Cantidad de dinero que los pasajeros se han gastado en la cubierta de RV."
   ]
  },
  {
   "cell_type": "code",
   "execution_count": 24,
   "metadata": {
    "execution": {
     "iopub.execute_input": "2023-07-06T18:09:19.281580Z",
     "iopub.status.busy": "2023-07-06T18:09:19.281029Z",
     "iopub.status.idle": "2023-07-06T18:09:19.721781Z",
     "shell.execute_reply": "2023-07-06T18:09:19.720642Z",
     "shell.execute_reply.started": "2023-07-06T18:09:19.281538Z"
    }
   },
   "outputs": [
    {
     "data": {
      "image/png": "[encoded data removed]",
      "text/plain": [
       "<Figure size 432x288 with 1 Axes>"
      ]
     },
     "metadata": {
      "needs_background": "light"
     },
     "output_type": "display_data"
    }
   ],
   "source": [
    "sns.histplot(data['VRDeck'], kde=True, stat='density')\n",
    "plt.ylim(0, 0.00175)\n",
    "plt.show()"
   ]
  },
  {
   "cell_type": "markdown",
   "metadata": {},
   "source": [
    "### Name\n",
    "\n",
    "Contiene el nombre y apellido de los pasajeros. Esta variable no aporta información útil, así que se descartará para el entrenamiento."
   ]
  },
  {
   "cell_type": "code",
   "execution_count": 25,
   "metadata": {
    "execution": {
     "iopub.execute_input": "2023-07-06T18:09:19.724347Z",
     "iopub.status.busy": "2023-07-06T18:09:19.723289Z",
     "iopub.status.idle": "2023-07-06T18:09:19.733084Z",
     "shell.execute_reply": "2023-07-06T18:09:19.731993Z",
     "shell.execute_reply.started": "2023-07-06T18:09:19.724306Z"
    }
   },
   "outputs": [
    {
     "data": {
      "text/plain": [
       "PassengerId\n",
       "0001_01      Maham Ofracculy\n",
       "0002_01         Juanna Vines\n",
       "0003_01        Altark Susent\n",
       "0003_02         Solam Susent\n",
       "0004_01    Willy Santantines\n",
       "Name: Name, dtype: object"
      ]
     },
     "execution_count": 25,
     "metadata": {},
     "output_type": "execute_result"
    }
   ],
   "source": [
    "data['Name'].head()"
   ]
  },
  {
   "cell_type": "markdown",
   "metadata": {},
   "source": [
    "### Passenger Id\n",
    "\n",
    "Un Id único para cada pasajero. Cada Id tiene la forma gggg_pp, donde gggg indica el grupo con el que viaja el pasajero y pp es su número dentro del grupo. Los miembros de un grupo suelen ser familiares, pero no siempre.\n",
    "\n",
    "Esta variable sin procesar no aporta información, pero se pueden extraer variables útiles a partir de ella."
   ]
  },
  {
   "cell_type": "code",
   "execution_count": 26,
   "metadata": {
    "execution": {
     "iopub.execute_input": "2023-07-06T18:09:19.734750Z",
     "iopub.status.busy": "2023-07-06T18:09:19.734438Z",
     "iopub.status.idle": "2023-07-06T18:09:19.745624Z",
     "shell.execute_reply": "2023-07-06T18:09:19.744854Z",
     "shell.execute_reply.started": "2023-07-06T18:09:19.734722Z"
    }
   },
   "outputs": [
    {
     "data": {
      "text/plain": [
       "Index(['0001_01', '0002_01', '0003_01', '0003_02', '0004_01', '0005_01',\n",
       "       '0006_01', '0006_02', '0007_01', '0008_01',\n",
       "       ...\n",
       "       '9272_02', '9274_01', '9275_01', '9275_02', '9275_03', '9276_01',\n",
       "       '9278_01', '9279_01', '9280_01', '9280_02'],\n",
       "      dtype='object', name='PassengerId', length=8693)"
      ]
     },
     "execution_count": 26,
     "metadata": {},
     "output_type": "execute_result"
    }
   ],
   "source": [
    "data.index"
   ]
  },
  {
   "cell_type": "markdown",
   "metadata": {},
   "source": [
    "## 3.2. Construcción de nuevas características"
   ]
  },
  {
   "cell_type": "markdown",
   "metadata": {},
   "source": [
    "### Suma de gastos\n",
    "\n",
    "A partir de todas las variables numéricas que representan gastos de los pasajeros, se puede generar una nueva variable `Expenses` que represente los gastos totales de los pasajeros (la suma de todos los gastos individuales)."
   ]
  },
  {
   "cell_type": "code",
   "execution_count": 27,
   "metadata": {
    "execution": {
     "iopub.execute_input": "2023-07-06T18:09:19.747578Z",
     "iopub.status.busy": "2023-07-06T18:09:19.746740Z",
     "iopub.status.idle": "2023-07-06T18:09:19.776724Z",
     "shell.execute_reply": "2023-07-06T18:09:19.775606Z",
     "shell.execute_reply.started": "2023-07-06T18:09:19.747548Z"
    }
   },
   "outputs": [
    {
     "data": {
      "text/html": [
       "<div>\n",
       "<style scoped>\n",
       "    .dataframe tbody tr th:only-of-type {\n",
       "        vertical-align: middle;\n",
       "    }\n",
       "\n",
       "    .dataframe tbody tr th {\n",
       "        vertical-align: top;\n",
       "    }\n",
       "\n",
       "    .dataframe thead th {\n",
       "        text-align: right;\n",
       "    }\n",
       "</style>\n",
       "<table border=\"1\" class=\"dataframe\">\n",
       "  <thead>\n",
       "    <tr style=\"text-align: right;\">\n",
       "      <th></th>\n",
       "      <th>HomePlanet</th>\n",
       "      <th>CryoSleep</th>\n",
       "      <th>Cabin</th>\n",
       "      <th>Destination</th>\n",
       "      <th>Age</th>\n",
       "      <th>VIP</th>\n",
       "      <th>RoomService</th>\n",
       "      <th>FoodCourt</th>\n",
       "      <th>ShoppingMall</th>\n",
       "      <th>Spa</th>\n",
       "      <th>VRDeck</th>\n",
       "      <th>Name</th>\n",
       "      <th>Transported</th>\n",
       "      <th>Expenses</th>\n",
       "    </tr>\n",
       "    <tr>\n",
       "      <th>PassengerId</th>\n",
       "      <th></th>\n",
       "      <th></th>\n",
       "      <th></th>\n",
       "      <th></th>\n",
       "      <th></th>\n",
       "      <th></th>\n",
       "      <th></th>\n",
       "      <th></th>\n",
       "      <th></th>\n",
       "      <th></th>\n",
       "      <th></th>\n",
       "      <th></th>\n",
       "      <th></th>\n",
       "      <th></th>\n",
       "    </tr>\n",
       "  </thead>\n",
       "  <tbody>\n",
       "    <tr>\n",
       "      <th>0001_01</th>\n",
       "      <td>Europa</td>\n",
       "      <td>False</td>\n",
       "      <td>B/0/P</td>\n",
       "      <td>TRAPPIST-1e</td>\n",
       "      <td>39.0</td>\n",
       "      <td>False</td>\n",
       "      <td>0.0</td>\n",
       "      <td>0.0</td>\n",
       "      <td>0.0</td>\n",
       "      <td>0.0</td>\n",
       "      <td>0.0</td>\n",
       "      <td>Maham Ofracculy</td>\n",
       "      <td>False</td>\n",
       "      <td>0.0</td>\n",
       "    </tr>\n",
       "    <tr>\n",
       "      <th>0002_01</th>\n",
       "      <td>Earth</td>\n",
       "      <td>False</td>\n",
       "      <td>F/0/S</td>\n",
       "      <td>TRAPPIST-1e</td>\n",
       "      <td>24.0</td>\n",
       "      <td>False</td>\n",
       "      <td>109.0</td>\n",
       "      <td>9.0</td>\n",
       "      <td>25.0</td>\n",
       "      <td>549.0</td>\n",
       "      <td>44.0</td>\n",
       "      <td>Juanna Vines</td>\n",
       "      <td>True</td>\n",
       "      <td>736.0</td>\n",
       "    </tr>\n",
       "    <tr>\n",
       "      <th>0003_01</th>\n",
       "      <td>Europa</td>\n",
       "      <td>False</td>\n",
       "      <td>A/0/S</td>\n",
       "      <td>TRAPPIST-1e</td>\n",
       "      <td>58.0</td>\n",
       "      <td>True</td>\n",
       "      <td>43.0</td>\n",
       "      <td>3576.0</td>\n",
       "      <td>0.0</td>\n",
       "      <td>6715.0</td>\n",
       "      <td>49.0</td>\n",
       "      <td>Altark Susent</td>\n",
       "      <td>False</td>\n",
       "      <td>10383.0</td>\n",
       "    </tr>\n",
       "    <tr>\n",
       "      <th>0003_02</th>\n",
       "      <td>Europa</td>\n",
       "      <td>False</td>\n",
       "      <td>A/0/S</td>\n",
       "      <td>TRAPPIST-1e</td>\n",
       "      <td>33.0</td>\n",
       "      <td>False</td>\n",
       "      <td>0.0</td>\n",
       "      <td>1283.0</td>\n",
       "      <td>371.0</td>\n",
       "      <td>3329.0</td>\n",
       "      <td>193.0</td>\n",
       "      <td>Solam Susent</td>\n",
       "      <td>False</td>\n",
       "      <td>5176.0</td>\n",
       "    </tr>\n",
       "    <tr>\n",
       "      <th>0004_01</th>\n",
       "      <td>Earth</td>\n",
       "      <td>False</td>\n",
       "      <td>F/1/S</td>\n",
       "      <td>TRAPPIST-1e</td>\n",
       "      <td>16.0</td>\n",
       "      <td>False</td>\n",
       "      <td>303.0</td>\n",
       "      <td>70.0</td>\n",
       "      <td>151.0</td>\n",
       "      <td>565.0</td>\n",
       "      <td>2.0</td>\n",
       "      <td>Willy Santantines</td>\n",
       "      <td>True</td>\n",
       "      <td>1091.0</td>\n",
       "    </tr>\n",
       "  </tbody>\n",
       "</table>\n",
       "</div>"
      ],
      "text/plain": [
       "            HomePlanet CryoSleep  Cabin  Destination   Age    VIP  \\\n",
       "PassengerId                                                         \n",
       "0001_01         Europa     False  B/0/P  TRAPPIST-1e  39.0  False   \n",
       "0002_01          Earth     False  F/0/S  TRAPPIST-1e  24.0  False   \n",
       "0003_01         Europa     False  A/0/S  TRAPPIST-1e  58.0   True   \n",
       "0003_02         Europa     False  A/0/S  TRAPPIST-1e  33.0  False   \n",
       "0004_01          Earth     False  F/1/S  TRAPPIST-1e  16.0  False   \n",
       "\n",
       "             RoomService  FoodCourt  ShoppingMall     Spa  VRDeck  \\\n",
       "PassengerId                                                         \n",
       "0001_01              0.0        0.0           0.0     0.0     0.0   \n",
       "0002_01            109.0        9.0          25.0   549.0    44.0   \n",
       "0003_01             43.0     3576.0           0.0  6715.0    49.0   \n",
       "0003_02              0.0     1283.0         371.0  3329.0   193.0   \n",
       "0004_01            303.0       70.0         151.0   565.0     2.0   \n",
       "\n",
       "                          Name  Transported  Expenses  \n",
       "PassengerId                                            \n",
       "0001_01        Maham Ofracculy        False       0.0  \n",
       "0002_01           Juanna Vines         True     736.0  \n",
       "0003_01          Altark Susent        False   10383.0  \n",
       "0003_02           Solam Susent        False    5176.0  \n",
       "0004_01      Willy Santantines         True    1091.0  "
      ]
     },
     "execution_count": 27,
     "metadata": {},
     "output_type": "execute_result"
    }
   ],
   "source": [
    "data['Expenses'] = data['RoomService'] + data['FoodCourt'] + data['ShoppingMall'] + data['Spa'] + data['VRDeck']\n",
    "data.head()"
   ]
  },
  {
   "cell_type": "code",
   "execution_count": 28,
   "metadata": {
    "execution": {
     "iopub.execute_input": "2023-07-06T18:09:19.778314Z",
     "iopub.status.busy": "2023-07-06T18:09:19.777961Z",
     "iopub.status.idle": "2023-07-06T18:09:20.274906Z",
     "shell.execute_reply": "2023-07-06T18:09:20.273937Z",
     "shell.execute_reply.started": "2023-07-06T18:09:19.778286Z"
    }
   },
   "outputs": [
    {
     "data": {
      "image/png": "[encoded data removed]",
      "text/plain": [
       "<Figure size 432x288 with 1 Axes>"
      ]
     },
     "metadata": {
      "needs_background": "light"
     },
     "output_type": "display_data"
    }
   ],
   "source": [
    "sns.histplot(data['Expenses'], kde=True, stat='density')\n",
    "plt.ylim(0, 0.0006)\n",
    "plt.show()"
   ]
  },
  {
   "cell_type": "markdown",
   "metadata": {},
   "source": [
    "### Cabin\n",
    "\n",
    "De la cabina se van a extraer dos categorías:\n",
    "\n",
    "* `Deck`: indica la cubierta de la cabina.\n",
    "\n",
    "* `Side`: indica si la cabina está en puerto (`P`) o estribor (`S`). \n",
    "\n",
    "Parece que ambas categorías tienen relación directa con la variable clase."
   ]
  },
  {
   "cell_type": "code",
   "execution_count": 29,
   "metadata": {
    "execution": {
     "iopub.execute_input": "2023-07-06T18:09:20.289028Z",
     "iopub.status.busy": "2023-07-06T18:09:20.288182Z",
     "iopub.status.idle": "2023-07-06T18:09:20.334958Z",
     "shell.execute_reply": "2023-07-06T18:09:20.333926Z",
     "shell.execute_reply.started": "2023-07-06T18:09:20.288990Z"
    }
   },
   "outputs": [
    {
     "data": {
      "text/html": [
       "<div>\n",
       "<style scoped>\n",
       "    .dataframe tbody tr th:only-of-type {\n",
       "        vertical-align: middle;\n",
       "    }\n",
       "\n",
       "    .dataframe tbody tr th {\n",
       "        vertical-align: top;\n",
       "    }\n",
       "\n",
       "    .dataframe thead th {\n",
       "        text-align: right;\n",
       "    }\n",
       "</style>\n",
       "<table border=\"1\" class=\"dataframe\">\n",
       "  <thead>\n",
       "    <tr style=\"text-align: right;\">\n",
       "      <th></th>\n",
       "      <th>HomePlanet</th>\n",
       "      <th>CryoSleep</th>\n",
       "      <th>Cabin</th>\n",
       "      <th>Destination</th>\n",
       "      <th>Age</th>\n",
       "      <th>VIP</th>\n",
       "      <th>RoomService</th>\n",
       "      <th>FoodCourt</th>\n",
       "      <th>ShoppingMall</th>\n",
       "      <th>Spa</th>\n",
       "      <th>VRDeck</th>\n",
       "      <th>Name</th>\n",
       "      <th>Transported</th>\n",
       "      <th>Expenses</th>\n",
       "      <th>Deck</th>\n",
       "      <th>Side</th>\n",
       "    </tr>\n",
       "    <tr>\n",
       "      <th>PassengerId</th>\n",
       "      <th></th>\n",
       "      <th></th>\n",
       "      <th></th>\n",
       "      <th></th>\n",
       "      <th></th>\n",
       "      <th></th>\n",
       "      <th></th>\n",
       "      <th></th>\n",
       "      <th></th>\n",
       "      <th></th>\n",
       "      <th></th>\n",
       "      <th></th>\n",
       "      <th></th>\n",
       "      <th></th>\n",
       "      <th></th>\n",
       "      <th></th>\n",
       "    </tr>\n",
       "  </thead>\n",
       "  <tbody>\n",
       "    <tr>\n",
       "      <th>0001_01</th>\n",
       "      <td>Europa</td>\n",
       "      <td>False</td>\n",
       "      <td>B/0/P</td>\n",
       "      <td>TRAPPIST-1e</td>\n",
       "      <td>39.0</td>\n",
       "      <td>False</td>\n",
       "      <td>0.0</td>\n",
       "      <td>0.0</td>\n",
       "      <td>0.0</td>\n",
       "      <td>0.0</td>\n",
       "      <td>0.0</td>\n",
       "      <td>Maham Ofracculy</td>\n",
       "      <td>False</td>\n",
       "      <td>0.0</td>\n",
       "      <td>B</td>\n",
       "      <td>P</td>\n",
       "    </tr>\n",
       "    <tr>\n",
       "      <th>0002_01</th>\n",
       "      <td>Earth</td>\n",
       "      <td>False</td>\n",
       "      <td>F/0/S</td>\n",
       "      <td>TRAPPIST-1e</td>\n",
       "      <td>24.0</td>\n",
       "      <td>False</td>\n",
       "      <td>109.0</td>\n",
       "      <td>9.0</td>\n",
       "      <td>25.0</td>\n",
       "      <td>549.0</td>\n",
       "      <td>44.0</td>\n",
       "      <td>Juanna Vines</td>\n",
       "      <td>True</td>\n",
       "      <td>736.0</td>\n",
       "      <td>F</td>\n",
       "      <td>S</td>\n",
       "    </tr>\n",
       "    <tr>\n",
       "      <th>0003_01</th>\n",
       "      <td>Europa</td>\n",
       "      <td>False</td>\n",
       "      <td>A/0/S</td>\n",
       "      <td>TRAPPIST-1e</td>\n",
       "      <td>58.0</td>\n",
       "      <td>True</td>\n",
       "      <td>43.0</td>\n",
       "      <td>3576.0</td>\n",
       "      <td>0.0</td>\n",
       "      <td>6715.0</td>\n",
       "      <td>49.0</td>\n",
       "      <td>Altark Susent</td>\n",
       "      <td>False</td>\n",
       "      <td>10383.0</td>\n",
       "      <td>A</td>\n",
       "      <td>S</td>\n",
       "    </tr>\n",
       "    <tr>\n",
       "      <th>0003_02</th>\n",
       "      <td>Europa</td>\n",
       "      <td>False</td>\n",
       "      <td>A/0/S</td>\n",
       "      <td>TRAPPIST-1e</td>\n",
       "      <td>33.0</td>\n",
       "      <td>False</td>\n",
       "      <td>0.0</td>\n",
       "      <td>1283.0</td>\n",
       "      <td>371.0</td>\n",
       "      <td>3329.0</td>\n",
       "      <td>193.0</td>\n",
       "      <td>Solam Susent</td>\n",
       "      <td>False</td>\n",
       "      <td>5176.0</td>\n",
       "      <td>A</td>\n",
       "      <td>S</td>\n",
       "    </tr>\n",
       "    <tr>\n",
       "      <th>0004_01</th>\n",
       "      <td>Earth</td>\n",
       "      <td>False</td>\n",
       "      <td>F/1/S</td>\n",
       "      <td>TRAPPIST-1e</td>\n",
       "      <td>16.0</td>\n",
       "      <td>False</td>\n",
       "      <td>303.0</td>\n",
       "      <td>70.0</td>\n",
       "      <td>151.0</td>\n",
       "      <td>565.0</td>\n",
       "      <td>2.0</td>\n",
       "      <td>Willy Santantines</td>\n",
       "      <td>True</td>\n",
       "      <td>1091.0</td>\n",
       "      <td>F</td>\n",
       "      <td>S</td>\n",
       "    </tr>\n",
       "  </tbody>\n",
       "</table>\n",
       "</div>"
      ],
      "text/plain": [
       "            HomePlanet CryoSleep  Cabin  Destination   Age    VIP  \\\n",
       "PassengerId                                                         \n",
       "0001_01         Europa     False  B/0/P  TRAPPIST-1e  39.0  False   \n",
       "0002_01          Earth     False  F/0/S  TRAPPIST-1e  24.0  False   \n",
       "0003_01         Europa     False  A/0/S  TRAPPIST-1e  58.0   True   \n",
       "0003_02         Europa     False  A/0/S  TRAPPIST-1e  33.0  False   \n",
       "0004_01          Earth     False  F/1/S  TRAPPIST-1e  16.0  False   \n",
       "\n",
       "             RoomService  FoodCourt  ShoppingMall     Spa  VRDeck  \\\n",
       "PassengerId                                                         \n",
       "0001_01              0.0        0.0           0.0     0.0     0.0   \n",
       "0002_01            109.0        9.0          25.0   549.0    44.0   \n",
       "0003_01             43.0     3576.0           0.0  6715.0    49.0   \n",
       "0003_02              0.0     1283.0         371.0  3329.0   193.0   \n",
       "0004_01            303.0       70.0         151.0   565.0     2.0   \n",
       "\n",
       "                          Name  Transported  Expenses Deck Side  \n",
       "PassengerId                                                      \n",
       "0001_01        Maham Ofracculy        False       0.0    B    P  \n",
       "0002_01           Juanna Vines         True     736.0    F    S  \n",
       "0003_01          Altark Susent        False   10383.0    A    S  \n",
       "0003_02           Solam Susent        False    5176.0    A    S  \n",
       "0004_01      Willy Santantines         True    1091.0    F    S  "
      ]
     },
     "execution_count": 29,
     "metadata": {},
     "output_type": "execute_result"
    }
   ],
   "source": [
    "data[['Deck', 'Side']] = data['Cabin'].str.split('/', expand=True)[[0, 2]]\n",
    "data.head()"
   ]
  },
  {
   "cell_type": "code",
   "execution_count": 30,
   "metadata": {
    "execution": {
     "iopub.execute_input": "2023-07-06T18:09:20.337165Z",
     "iopub.status.busy": "2023-07-06T18:09:20.336732Z",
     "iopub.status.idle": "2023-07-06T18:09:21.275872Z",
     "shell.execute_reply": "2023-07-06T18:09:21.274806Z",
     "shell.execute_reply.started": "2023-07-06T18:09:20.337126Z"
    }
   },
   "outputs": [
    {
     "data": {
      "image/png": "[encoded data removed]",
      "text/plain": [
       "<Figure size 720x288 with 2 Axes>"
      ]
     },
     "metadata": {
      "needs_background": "light"
     },
     "output_type": "display_data"
    }
   ],
   "source": [
    "categorical_plot(data, 'Deck', 'Transported')"
   ]
  },
  {
   "cell_type": "code",
   "execution_count": 31,
   "metadata": {
    "execution": {
     "iopub.execute_input": "2023-07-06T18:09:21.277735Z",
     "iopub.status.busy": "2023-07-06T18:09:21.277331Z",
     "iopub.status.idle": "2023-07-06T18:09:21.907330Z",
     "shell.execute_reply": "2023-07-06T18:09:21.906241Z",
     "shell.execute_reply.started": "2023-07-06T18:09:21.277704Z"
    }
   },
   "outputs": [
    {
     "data": {
      "image/png": "[encoded data removed]",
      "text/plain": [
       "<Figure size 720x288 with 2 Axes>"
      ]
     },
     "metadata": {
      "needs_background": "light"
     },
     "output_type": "display_data"
    }
   ],
   "source": [
    "categorical_plot(data, 'Side', 'Transported')"
   ]
  },
  {
   "cell_type": "markdown",
   "metadata": {},
   "source": [
    "### PassengerId\n",
    "\n",
    "A partir del `PassengerId` se pueden extraer dos categorías:\n",
    "\n",
    "* `GroupId`: id del grupo en el que iba el pasajero. Hay demasiadas categorías, y parece que no aporta nada al problema (se eliminará).\n",
    "\n",
    "* `GroupSize`: tamaño del grupo en el que iba en el pasajero. Parece que no hay mucha relación entre esta variable y la variable clase."
   ]
  },
  {
   "cell_type": "code",
   "execution_count": 32,
   "metadata": {
    "execution": {
     "iopub.execute_input": "2023-07-06T18:09:21.909589Z",
     "iopub.status.busy": "2023-07-06T18:09:21.908765Z",
     "iopub.status.idle": "2023-07-06T18:09:21.940880Z",
     "shell.execute_reply": "2023-07-06T18:09:21.939892Z",
     "shell.execute_reply.started": "2023-07-06T18:09:21.909558Z"
    }
   },
   "outputs": [
    {
     "data": {
      "text/html": [
       "<div>\n",
       "<style scoped>\n",
       "    .dataframe tbody tr th:only-of-type {\n",
       "        vertical-align: middle;\n",
       "    }\n",
       "\n",
       "    .dataframe tbody tr th {\n",
       "        vertical-align: top;\n",
       "    }\n",
       "\n",
       "    .dataframe thead th {\n",
       "        text-align: right;\n",
       "    }\n",
       "</style>\n",
       "<table border=\"1\" class=\"dataframe\">\n",
       "  <thead>\n",
       "    <tr style=\"text-align: right;\">\n",
       "      <th></th>\n",
       "      <th>GroupId</th>\n",
       "      <th>GroupSize</th>\n",
       "    </tr>\n",
       "    <tr>\n",
       "      <th>PassengerId</th>\n",
       "      <th></th>\n",
       "      <th></th>\n",
       "    </tr>\n",
       "  </thead>\n",
       "  <tbody>\n",
       "    <tr>\n",
       "      <th>0001_01</th>\n",
       "      <td>0001</td>\n",
       "      <td>01</td>\n",
       "    </tr>\n",
       "    <tr>\n",
       "      <th>0002_01</th>\n",
       "      <td>0002</td>\n",
       "      <td>01</td>\n",
       "    </tr>\n",
       "    <tr>\n",
       "      <th>0003_01</th>\n",
       "      <td>0003</td>\n",
       "      <td>01</td>\n",
       "    </tr>\n",
       "    <tr>\n",
       "      <th>0003_02</th>\n",
       "      <td>0003</td>\n",
       "      <td>02</td>\n",
       "    </tr>\n",
       "    <tr>\n",
       "      <th>0004_01</th>\n",
       "      <td>0004</td>\n",
       "      <td>01</td>\n",
       "    </tr>\n",
       "  </tbody>\n",
       "</table>\n",
       "</div>"
      ],
      "text/plain": [
       "            GroupId GroupSize\n",
       "PassengerId                  \n",
       "0001_01        0001        01\n",
       "0002_01        0002        01\n",
       "0003_01        0003        01\n",
       "0003_02        0003        02\n",
       "0004_01        0004        01"
      ]
     },
     "execution_count": 32,
     "metadata": {},
     "output_type": "execute_result"
    }
   ],
   "source": [
    "passengerId = pd.DataFrame(data.index)\n",
    "passengerId[['GroupId', 'GroupSize']] = passengerId['PassengerId'].str.split('_', expand=True)\n",
    "passengerId.set_index('PassengerId', inplace=True)\n",
    "passengerId.head()"
   ]
  },
  {
   "cell_type": "code",
   "execution_count": 33,
   "metadata": {
    "execution": {
     "iopub.execute_input": "2023-07-06T18:09:21.942512Z",
     "iopub.status.busy": "2023-07-06T18:09:21.942153Z",
     "iopub.status.idle": "2023-07-06T18:09:21.976781Z",
     "shell.execute_reply": "2023-07-06T18:09:21.975666Z",
     "shell.execute_reply.started": "2023-07-06T18:09:21.942480Z"
    }
   },
   "outputs": [
    {
     "data": {
      "text/html": [
       "<div>\n",
       "<style scoped>\n",
       "    .dataframe tbody tr th:only-of-type {\n",
       "        vertical-align: middle;\n",
       "    }\n",
       "\n",
       "    .dataframe tbody tr th {\n",
       "        vertical-align: top;\n",
       "    }\n",
       "\n",
       "    .dataframe thead th {\n",
       "        text-align: right;\n",
       "    }\n",
       "</style>\n",
       "<table border=\"1\" class=\"dataframe\">\n",
       "  <thead>\n",
       "    <tr style=\"text-align: right;\">\n",
       "      <th></th>\n",
       "      <th>HomePlanet</th>\n",
       "      <th>CryoSleep</th>\n",
       "      <th>Cabin</th>\n",
       "      <th>Destination</th>\n",
       "      <th>Age</th>\n",
       "      <th>VIP</th>\n",
       "      <th>RoomService</th>\n",
       "      <th>FoodCourt</th>\n",
       "      <th>ShoppingMall</th>\n",
       "      <th>Spa</th>\n",
       "      <th>VRDeck</th>\n",
       "      <th>Name</th>\n",
       "      <th>Transported</th>\n",
       "      <th>Expenses</th>\n",
       "      <th>Deck</th>\n",
       "      <th>Side</th>\n",
       "      <th>GroupSize</th>\n",
       "    </tr>\n",
       "    <tr>\n",
       "      <th>PassengerId</th>\n",
       "      <th></th>\n",
       "      <th></th>\n",
       "      <th></th>\n",
       "      <th></th>\n",
       "      <th></th>\n",
       "      <th></th>\n",
       "      <th></th>\n",
       "      <th></th>\n",
       "      <th></th>\n",
       "      <th></th>\n",
       "      <th></th>\n",
       "      <th></th>\n",
       "      <th></th>\n",
       "      <th></th>\n",
       "      <th></th>\n",
       "      <th></th>\n",
       "      <th></th>\n",
       "    </tr>\n",
       "  </thead>\n",
       "  <tbody>\n",
       "    <tr>\n",
       "      <th>0001_01</th>\n",
       "      <td>Europa</td>\n",
       "      <td>False</td>\n",
       "      <td>B/0/P</td>\n",
       "      <td>TRAPPIST-1e</td>\n",
       "      <td>39.0</td>\n",
       "      <td>False</td>\n",
       "      <td>0.0</td>\n",
       "      <td>0.0</td>\n",
       "      <td>0.0</td>\n",
       "      <td>0.0</td>\n",
       "      <td>0.0</td>\n",
       "      <td>Maham Ofracculy</td>\n",
       "      <td>False</td>\n",
       "      <td>0.0</td>\n",
       "      <td>B</td>\n",
       "      <td>P</td>\n",
       "      <td>1</td>\n",
       "    </tr>\n",
       "    <tr>\n",
       "      <th>0002_01</th>\n",
       "      <td>Earth</td>\n",
       "      <td>False</td>\n",
       "      <td>F/0/S</td>\n",
       "      <td>TRAPPIST-1e</td>\n",
       "      <td>24.0</td>\n",
       "      <td>False</td>\n",
       "      <td>109.0</td>\n",
       "      <td>9.0</td>\n",
       "      <td>25.0</td>\n",
       "      <td>549.0</td>\n",
       "      <td>44.0</td>\n",
       "      <td>Juanna Vines</td>\n",
       "      <td>True</td>\n",
       "      <td>736.0</td>\n",
       "      <td>F</td>\n",
       "      <td>S</td>\n",
       "      <td>1</td>\n",
       "    </tr>\n",
       "    <tr>\n",
       "      <th>0003_01</th>\n",
       "      <td>Europa</td>\n",
       "      <td>False</td>\n",
       "      <td>A/0/S</td>\n",
       "      <td>TRAPPIST-1e</td>\n",
       "      <td>58.0</td>\n",
       "      <td>True</td>\n",
       "      <td>43.0</td>\n",
       "      <td>3576.0</td>\n",
       "      <td>0.0</td>\n",
       "      <td>6715.0</td>\n",
       "      <td>49.0</td>\n",
       "      <td>Altark Susent</td>\n",
       "      <td>False</td>\n",
       "      <td>10383.0</td>\n",
       "      <td>A</td>\n",
       "      <td>S</td>\n",
       "      <td>2</td>\n",
       "    </tr>\n",
       "    <tr>\n",
       "      <th>0003_02</th>\n",
       "      <td>Europa</td>\n",
       "      <td>False</td>\n",
       "      <td>A/0/S</td>\n",
       "      <td>TRAPPIST-1e</td>\n",
       "      <td>33.0</td>\n",
       "      <td>False</td>\n",
       "      <td>0.0</td>\n",
       "      <td>1283.0</td>\n",
       "      <td>371.0</td>\n",
       "      <td>3329.0</td>\n",
       "      <td>193.0</td>\n",
       "      <td>Solam Susent</td>\n",
       "      <td>False</td>\n",
       "      <td>5176.0</td>\n",
       "      <td>A</td>\n",
       "      <td>S</td>\n",
       "      <td>2</td>\n",
       "    </tr>\n",
       "    <tr>\n",
       "      <th>0004_01</th>\n",
       "      <td>Earth</td>\n",
       "      <td>False</td>\n",
       "      <td>F/1/S</td>\n",
       "      <td>TRAPPIST-1e</td>\n",
       "      <td>16.0</td>\n",
       "      <td>False</td>\n",
       "      <td>303.0</td>\n",
       "      <td>70.0</td>\n",
       "      <td>151.0</td>\n",
       "      <td>565.0</td>\n",
       "      <td>2.0</td>\n",
       "      <td>Willy Santantines</td>\n",
       "      <td>True</td>\n",
       "      <td>1091.0</td>\n",
       "      <td>F</td>\n",
       "      <td>S</td>\n",
       "      <td>1</td>\n",
       "    </tr>\n",
       "  </tbody>\n",
       "</table>\n",
       "</div>"
      ],
      "text/plain": [
       "            HomePlanet CryoSleep  Cabin  Destination   Age    VIP  \\\n",
       "PassengerId                                                         \n",
       "0001_01         Europa     False  B/0/P  TRAPPIST-1e  39.0  False   \n",
       "0002_01          Earth     False  F/0/S  TRAPPIST-1e  24.0  False   \n",
       "0003_01         Europa     False  A/0/S  TRAPPIST-1e  58.0   True   \n",
       "0003_02         Europa     False  A/0/S  TRAPPIST-1e  33.0  False   \n",
       "0004_01          Earth     False  F/1/S  TRAPPIST-1e  16.0  False   \n",
       "\n",
       "             RoomService  FoodCourt  ShoppingMall     Spa  VRDeck  \\\n",
       "PassengerId                                                         \n",
       "0001_01              0.0        0.0           0.0     0.0     0.0   \n",
       "0002_01            109.0        9.0          25.0   549.0    44.0   \n",
       "0003_01             43.0     3576.0           0.0  6715.0    49.0   \n",
       "0003_02              0.0     1283.0         371.0  3329.0   193.0   \n",
       "0004_01            303.0       70.0         151.0   565.0     2.0   \n",
       "\n",
       "                          Name  Transported  Expenses Deck Side  GroupSize  \n",
       "PassengerId                                                                 \n",
       "0001_01        Maham Ofracculy        False       0.0    B    P          1  \n",
       "0002_01           Juanna Vines         True     736.0    F    S          1  \n",
       "0003_01          Altark Susent        False   10383.0    A    S          2  \n",
       "0003_02           Solam Susent        False    5176.0    A    S          2  \n",
       "0004_01      Willy Santantines         True    1091.0    F    S          1  "
      ]
     },
     "execution_count": 33,
     "metadata": {},
     "output_type": "execute_result"
    }
   ],
   "source": [
    "data['GroupSize'] = passengerId.groupby(\"GroupId\")[\"GroupId\"].transform(\"count\")\n",
    "data.head()"
   ]
  },
  {
   "cell_type": "code",
   "execution_count": 34,
   "metadata": {
    "execution": {
     "iopub.execute_input": "2023-07-06T18:09:21.978445Z",
     "iopub.status.busy": "2023-07-06T18:09:21.978091Z",
     "iopub.status.idle": "2023-07-06T18:09:22.911537Z",
     "shell.execute_reply": "2023-07-06T18:09:22.910508Z",
     "shell.execute_reply.started": "2023-07-06T18:09:21.978373Z"
    }
   },
   "outputs": [
    {
     "data": {
      "image/png": "[encoded data removed]",
      "text/plain": [
       "<Figure size 720x288 with 2 Axes>"
      ]
     },
     "metadata": {
      "needs_background": "light"
     },
     "output_type": "display_data"
    }
   ],
   "source": [
    "categorical_plot(data, 'GroupSize', 'Transported')"
   ]
  },
  {
   "cell_type": "markdown",
   "metadata": {},
   "source": [
    "## 3.3. Análisis multivariado\n",
    "\n",
    "Para el análisis multivariado se va a generar una matriz de correlación entre las variables numéricas.\n",
    "\n",
    "De la matriz de correlación podemos observar la relación que hay entre las distintas variables (y si esta relación es positiva o negativa). Por ejemplo, podemos ver que la variable `Expenses` está relacionada con todas las variables de gastos (esto es lógico ya que se ha construido a partir de ellas), además esta un poco relacionada con la variable `Age` y `Transported`. También podemos observar como la variable `GroupSize` no está relacionada con ninguna variable, por lo que la podemos obviar en el entrenamiento."
   ]
  },
  {
   "cell_type": "code",
   "execution_count": 35,
   "metadata": {
    "execution": {
     "iopub.execute_input": "2023-07-06T18:09:22.913476Z",
     "iopub.status.busy": "2023-07-06T18:09:22.912701Z",
     "iopub.status.idle": "2023-07-06T18:09:23.655059Z",
     "shell.execute_reply": "2023-07-06T18:09:23.653962Z",
     "shell.execute_reply.started": "2023-07-06T18:09:22.913433Z"
    }
   },
   "outputs": [
    {
     "data": {
      "image/png": "[encoded data removed]",
      "text/plain": [
       "<Figure size 432x288 with 2 Axes>"
      ]
     },
     "metadata": {
      "needs_background": "light"
     },
     "output_type": "display_data"
    }
   ],
   "source": [
    "sns.heatmap(data.corr(), annot=True, square=True)\n",
    "plt.show()"
   ]
  },
  {
   "cell_type": "markdown",
   "metadata": {},
   "source": [
    "## 3.4. Conclusiones análisis exploratorio\n",
    "\n",
    "Estas son las conclusiones que se han ido sacando a lo largo del análisis exploratorio:\n",
    "\n",
    "* ***Transported***: variable clase balanceada con dos categorías (true o false).\n",
    "* ***HomePlanet***: tiene relación directa con la variable clase.\n",
    "* ***CryoSleep***: tiene relación directa con la variable clase.\n",
    "* ***Destination***: tiene relación directa con la variable clase.\n",
    "* ***VIP***: no aporta información útil porque la mayoría de los pasajeros no tenían contratados los servicios VIP.\n",
    "* ***Age***: tiene relación con algunas variables.\n",
    "* ***RoomService***: tiene relación con otras variables.\n",
    "* ***FoodCourt***: tiene relación con otras variables.\n",
    "* ***ShoppingMall***: tiene relación con otras variables.\n",
    "* ***Spa***: tiene relación con otras variables.\n",
    "* ***VRDeck***: tiene relación con otras variables.\n",
    "* ***Expenses***: tiene relación con otras variables.\n",
    "* ***Name***: no aporta información útil.\n",
    "* ***Cabin***: no aporta información útil. Se han extraído varias características a partir de ella:\n",
    "    * ***Deck***: tiene relación directa con la variable clase.\n",
    "    * ***Side***: tiene relación directa con la variable clase.\n",
    "* ***PassengerId***: no aporta información útil. Se ha extraído una característica a partir de ella:\n",
    "    * ***GroupSize***: solo tiene un poco de relación con la variable Age. No se va a utilizar.\n",
    "* Todas las variables cuentan con valores nulos (un 2%).\n",
    "* Las variables numéricas cuentan con bastantes outliers.\n",
    "* El problema cuenta con varias características categóricas que serán necesario codificar."
   ]
  },
  {
   "cell_type": "markdown",
   "metadata": {},
   "source": [
    "# 4. Preprocesamiento de datos\n",
    "\n",
    "Después de terminar el análisis exploratorio de datos, vamos a intentar preparar los datos a partir de las conclusiones que hemos obtenido para obtener un mejor rendimiento al entrenar los modelos.\n",
    "\n",
    "Para realizar todas las transformaciones necesarias sobre los datos se va a utilizar el concepto de `pipeline`. En un pipeline se definen todas las transformaciones que queremos aplicar sobre los datos y el pipeline se encarga de realizarlas todas, tanto para los datos de entrenamiento como para los de prueba. Además, con el uso de un pipeline nos aseguramos de no cometer `fuga de datos`, es decir, no se introducirá información del conjunto de prueba en los datos utilizados para entrenar a los modelos."
   ]
  },
  {
   "cell_type": "markdown",
   "metadata": {},
   "source": [
    "## Construcción de nuevas características\n",
    "\n",
    "Crearemos unos `custom transformers` para generar las nuevas características `Expenses`, `Deck` y `Side`.\n",
    "* Para la variable `Expenses` se sumarán todas las variables de gastos del viaje.\n",
    "* Las variables `Deck` y `Side` se extraerán de la variable `Cabin`. Recordemos que esta variable tenía el siguiente formato `D/_/S`, donde nos interesa extraer el primer y último cáracter."
   ]
  },
  {
   "cell_type": "code",
   "execution_count": 36,
   "metadata": {
    "execution": {
     "iopub.execute_input": "2023-07-06T18:09:23.656719Z",
     "iopub.status.busy": "2023-07-06T18:09:23.656278Z",
     "iopub.status.idle": "2023-07-06T18:09:23.664324Z",
     "shell.execute_reply": "2023-07-06T18:09:23.663095Z",
     "shell.execute_reply.started": "2023-07-06T18:09:23.656680Z"
    }
   },
   "outputs": [],
   "source": [
    "class TotalExpensesTransformer(BaseEstimator, TransformerMixin): \n",
    " \n",
    "    def fit(self, X, y = None):\n",
    "        return self\n",
    "    \n",
    "    def transform( self, X, y = None ):\n",
    "        X['Expenses'] = X['RoomService'] + X['FoodCourt'] + X['ShoppingMall'] + X['Spa'] + X['VRDeck']\n",
    "        return X\n",
    "\n",
    "#expense_columns = TotalExpensesTransformer()"
   ]
  },
  {
   "cell_type": "code",
   "execution_count": 37,
   "metadata": {
    "execution": {
     "iopub.execute_input": "2023-07-06T18:09:23.666084Z",
     "iopub.status.busy": "2023-07-06T18:09:23.665766Z",
     "iopub.status.idle": "2023-07-06T18:09:23.677175Z",
     "shell.execute_reply": "2023-07-06T18:09:23.676331Z",
     "shell.execute_reply.started": "2023-07-06T18:09:23.666057Z"
    }
   },
   "outputs": [],
   "source": [
    "class CabinTransformer(BaseEstimator, TransformerMixin): \n",
    " \n",
    "    def fit(self, X, y = None):\n",
    "        return self\n",
    "    \n",
    "    def transform( self, X, y = None ):\n",
    "        X[['Deck', 'Side']] = X['Cabin'].str.split('/', expand=True)[[0, 2]]\n",
    "        return X\n",
    "    \n",
    "#cabin_transformer = CabinTransformer()"
   ]
  },
  {
   "cell_type": "markdown",
   "metadata": {},
   "source": [
    "## Eliminar columnas\n",
    "\n",
    "Crearemos otro `custom transform` que se encargará de eliminar las columnas indicadas, para eliminar las columnas que hemos detectado que no aportan información útil."
   ]
  },
  {
   "cell_type": "code",
   "execution_count": 38,
   "metadata": {
    "execution": {
     "iopub.execute_input": "2023-07-06T18:09:23.679537Z",
     "iopub.status.busy": "2023-07-06T18:09:23.678455Z",
     "iopub.status.idle": "2023-07-06T18:09:23.688237Z",
     "shell.execute_reply": "2023-07-06T18:09:23.687466Z",
     "shell.execute_reply.started": "2023-07-06T18:09:23.679506Z"
    }
   },
   "outputs": [],
   "source": [
    "class ColumnsDropper(BaseEstimator, TransformerMixin):\n",
    "    def __init__(self,columns):\n",
    "        self.columns=columns\n",
    "        \n",
    "    def fit(self, X, y=None):\n",
    "        return self\n",
    "    \n",
    "    def transform(self,X,y=None):\n",
    "        return X.drop(self.columns,axis=1)\n",
    "    \n",
    "#column_dropper = ColumnsDropper(['VIP', 'Name', 'Cabin'])"
   ]
  },
  {
   "cell_type": "markdown",
   "metadata": {},
   "source": [
    "## Outliers\n",
    "\n",
    "Para el tratamiento de outliers crearemos un `custom transformer` que les asignará a todos los outliers un valor máximo como límite."
   ]
  },
  {
   "cell_type": "code",
   "execution_count": 39,
   "metadata": {
    "execution": {
     "iopub.execute_input": "2023-07-06T18:09:23.698052Z",
     "iopub.status.busy": "2023-07-06T18:09:23.697739Z",
     "iopub.status.idle": "2023-07-06T18:09:23.706811Z",
     "shell.execute_reply": "2023-07-06T18:09:23.705625Z",
     "shell.execute_reply.started": "2023-07-06T18:09:23.698017Z"
    }
   },
   "outputs": [],
   "source": [
    "class LimitOutlier(BaseEstimator, TransformerMixin): \n",
    "    \n",
    "    def fit(self, X, y = None):\n",
    "        self.limits = []\n",
    "        for col in range(X.shape[1]):\n",
    "            Q1 = np.nanpercentile(X[col], 25)\n",
    "            Q3 = np.nanpercentile(X[col], 75)\n",
    "            IQR = Q3 - Q1\n",
    "            min_quartile = Q1 - 1.5*IQR\n",
    "            max_quartile = Q3 + 1.5*IQR\n",
    "            \n",
    "            self.limits.append(max_quartile)\n",
    "        \n",
    "        return self\n",
    "    \n",
    "    def transform( self, X, y = None ):\n",
    "        check_is_fitted(self, ['limits'])\n",
    "        X2 = X.copy()\n",
    "        for col in range(len(self.limits)):\n",
    "            X2[col] = np.minimum(X[col], self.limits[col])\n",
    "        return X2\n",
    "    \n",
    "#limit_outlier = LimitOutlier()"
   ]
  },
  {
   "cell_type": "markdown",
   "metadata": {},
   "source": [
    "## Valores nulos\n",
    "\n",
    "Para el tratamiento de valores nulos se realizará una imputación: \n",
    "* Para las variables categóricas se asignará el valor más frecuente.\n",
    "* Para las variables numéricas se aplicará un knn. Ya que como vimos en el análisis exploratorio las características numéricas se relacionaban con el resto de características."
   ]
  },
  {
   "cell_type": "code",
   "execution_count": 40,
   "metadata": {
    "execution": {
     "iopub.execute_input": "2023-07-06T18:09:23.708530Z",
     "iopub.status.busy": "2023-07-06T18:09:23.708183Z",
     "iopub.status.idle": "2023-07-06T18:09:23.722200Z",
     "shell.execute_reply": "2023-07-06T18:09:23.721450Z",
     "shell.execute_reply.started": "2023-07-06T18:09:23.708495Z"
    }
   },
   "outputs": [],
   "source": [
    "# categorical\n",
    "most_frequency_imputer = SimpleImputer(strategy='most_frequent')\n",
    "\n",
    "# numerical\n",
    "knn_imputer = KNNImputer(n_neighbors=5, weights='uniform')"
   ]
  },
  {
   "cell_type": "markdown",
   "metadata": {},
   "source": [
    "## Encoding\n",
    "\n",
    "Para las variables categóricas se codificarán mediante un `one hot encoding`."
   ]
  },
  {
   "cell_type": "code",
   "execution_count": 41,
   "metadata": {
    "execution": {
     "iopub.execute_input": "2023-07-06T18:09:23.724494Z",
     "iopub.status.busy": "2023-07-06T18:09:23.723388Z",
     "iopub.status.idle": "2023-07-06T18:09:23.733235Z",
     "shell.execute_reply": "2023-07-06T18:09:23.732525Z",
     "shell.execute_reply.started": "2023-07-06T18:09:23.724463Z"
    }
   },
   "outputs": [],
   "source": [
    "one_hot_encoder = OneHotEncoder(handle_unknown='ignore')"
   ]
  },
  {
   "cell_type": "markdown",
   "metadata": {},
   "source": [
    "## Construcción del pipeline\n",
    "\n",
    "Ahora que se han definido todos los pasos de preprocesamiento se va a construir el `pipeline`. El `pipeline` realizará las siguientes operaciones en este orden:\n",
    "\n",
    "![Pipeline](pipeline.png \"Pipeline\")"
   ]
  },
  {
   "cell_type": "code",
   "execution_count": 42,
   "metadata": {
    "execution": {
     "iopub.execute_input": "2023-07-06T18:09:23.735550Z",
     "iopub.status.busy": "2023-07-06T18:09:23.734519Z",
     "iopub.status.idle": "2023-07-06T18:09:23.744697Z",
     "shell.execute_reply": "2023-07-06T18:09:23.743729Z",
     "shell.execute_reply.started": "2023-07-06T18:09:23.735513Z"
    }
   },
   "outputs": [],
   "source": [
    "numerical_cols = ['Age', 'RoomService', 'FoodCourt', 'ShoppingMall', 'Spa', 'VRDeck', 'Expenses']\n",
    "categorical_cols = ['HomePlanet', 'CryoSleep', 'Destination', 'Deck', 'Side']\n",
    "drop_col = ['VIP', 'Name', 'Cabin']"
   ]
  },
  {
   "cell_type": "code",
   "execution_count": 43,
   "metadata": {
    "execution": {
     "iopub.execute_input": "2023-07-06T18:09:23.746764Z",
     "iopub.status.busy": "2023-07-06T18:09:23.746129Z",
     "iopub.status.idle": "2023-07-06T18:09:23.757523Z",
     "shell.execute_reply": "2023-07-06T18:09:23.756644Z",
     "shell.execute_reply.started": "2023-07-06T18:09:23.746734Z"
    }
   },
   "outputs": [],
   "source": [
    "numerical_transformer = Pipeline(steps=[('imputer', KNNImputer(n_neighbors=5, weights='uniform')),\n",
    "                                        ('outlier', LimitOutlier())])\n",
    "\n",
    "categorical_transformer = Pipeline(steps=[('imputer', SimpleImputer(strategy='most_frequent')),\n",
    "                                  ('encoder', OneHotEncoder(handle_unknown='ignore'))])\n",
    "\n",
    "column_transformer = ColumnTransformer(\n",
    "    transformers=[\n",
    "        ('num', numerical_transformer, numerical_cols),\n",
    "        ('cat', categorical_transformer, categorical_cols)\n",
    "    ], remainder='passthrough')\n",
    "\n",
    "\n",
    "preprocessor = Pipeline(steps=[('totalexpenses', TotalExpensesTransformer()),\n",
    "                               ('cabin', CabinTransformer()),\n",
    "                               ('drop', ColumnsDropper(drop_col)),\n",
    "                               ('columntransform', column_transformer)])"
   ]
  },
  {
   "cell_type": "markdown",
   "metadata": {},
   "source": [
    "# 5. Entrenamiento de los modelos\n",
    "\n",
    "Ahora que hemos definido un `pipeline` que contiene todo el preprocesamiento que queremos realizar sobre nuestros datos vamos a entrenar varios modelos a partir de estos datos preprocesados.\n",
    "\n",
    "Un aspecto fundamental para obtener buenos resultados con algoritmos de aprendizaje es elegir los parámetros adecuados. En este caso se ha utilizado al objeto `GridSearchCV` que realiza una `validación cruzada` para elegir los parámetros que obtienen mejores resultados a partir de una lista de parámetros dada.\n",
    "\n",
    "Después de obtener los mejores parámetros para cada modelo se realizará un emsemble con los mejores modelos obtenidos.\n",
    "\n",
    "Para empezar cargaremos los datos que disponemos para validar y entrenar los modelos:"
   ]
  },
  {
   "cell_type": "code",
   "execution_count": 44,
   "metadata": {
    "execution": {
     "iopub.execute_input": "2023-07-06T18:09:23.759438Z",
     "iopub.status.busy": "2023-07-06T18:09:23.758863Z",
     "iopub.status.idle": "2023-07-06T18:09:23.811277Z",
     "shell.execute_reply": "2023-07-06T18:09:23.809780Z",
     "shell.execute_reply.started": "2023-07-06T18:09:23.759397Z"
    }
   },
   "outputs": [],
   "source": [
    "data = pd.read_csv(filepath, index_col=index)\n",
    "X = data.drop(columns=['Transported'])\n",
    "y = data['Transported']"
   ]
  },
  {
   "cell_type": "markdown",
   "metadata": {},
   "source": [
    "Ahora dividiremos este conjunto de datos en dos:\n",
    "- Conjunto de datos de entrenamiento: datos que se usarán para seleccionar la mejor configuración de parámetros para los modelos y entrenarlos con esa configuración.\n",
    "- Conjunto de datos de validación: datos que se usarán después de entrenar los modelos con la mejor configuración de parámetros para evaluar su rendimiento."
   ]
  },
  {
   "cell_type": "code",
   "execution_count": 45,
   "metadata": {
    "execution": {
     "iopub.execute_input": "2023-07-06T18:09:23.813175Z",
     "iopub.status.busy": "2023-07-06T18:09:23.812828Z",
     "iopub.status.idle": "2023-07-06T18:09:23.830091Z",
     "shell.execute_reply": "2023-07-06T18:09:23.828831Z",
     "shell.execute_reply.started": "2023-07-06T18:09:23.813145Z"
    }
   },
   "outputs": [],
   "source": [
    "X_train, X_val, y_train, y_val = train_test_split(X, y, stratify=y, test_size=0.18, random_state=seed)"
   ]
  },
  {
   "cell_type": "markdown",
   "metadata": {},
   "source": [
    "Definimos una función que recibe un modelo, la configuración de parámetros que queremos validar y los datos para entrenar ese modelo. Esta función realizará una validación cruzada con 5 fold para elegir la mejor configuración de parámetros y posteriormente utilizará el conjunto de datos de entrenamiento completo para entrenar al modelo con la mejor configuración de parámetros."
   ]
  },
  {
   "cell_type": "code",
   "execution_count": 46,
   "metadata": {
    "execution": {
     "iopub.execute_input": "2023-07-06T18:09:23.831753Z",
     "iopub.status.busy": "2023-07-06T18:09:23.831435Z",
     "iopub.status.idle": "2023-07-06T18:09:23.840493Z",
     "shell.execute_reply": "2023-07-06T18:09:23.839342Z",
     "shell.execute_reply.started": "2023-07-06T18:09:23.831726Z"
    }
   },
   "outputs": [],
   "source": [
    "def fitCV(model, parameters, X, y, preprocessor=preprocessor):\n",
    "\n",
    "    my_pipeline = Pipeline(steps=[('preprocessor', preprocessor),\n",
    "                                  ('model', model)])\n",
    "    \n",
    "    parameters['preprocessor__columntransform__num__imputer__n_neighbors'] = [5, 10]\n",
    "    parameters['preprocessor__columntransform__num__imputer__weights'] = ['uniform', 'distance']\n",
    "    \n",
    "    GS = GridSearchCV(my_pipeline, param_grid=parameters, cv=5, scoring='accuracy', refit=True, verbose=0)\n",
    "    GS.fit(X, y)\n",
    "    \n",
    "    print(\"Mejor score para la mejor configuracion de parametros: \", GS.best_score_)\n",
    "    print(\"Mejor configuración de parámetros: \", GS.best_params_)\n",
    "    \n",
    "    return GS.best_estimator_"
   ]
  },
  {
   "cell_type": "markdown",
   "metadata": {},
   "source": [
    "Ahora vamos a entrenar los siguientes algoritmos utilizando esta función:\n",
    "- Support Vector Machine\n",
    "- Regresión logística\n",
    "- Árboles de decisión\n",
    "- Ada Boost\n",
    "- Bagging\n",
    "- Random Forest\n",
    "- Gradient Boosting\n",
    "- Histogram Gradient Boosting"
   ]
  },
  {
   "cell_type": "markdown",
   "metadata": {},
   "source": [
    "## SVM"
   ]
  },
  {
   "cell_type": "code",
   "execution_count": 47,
   "metadata": {
    "execution": {
     "iopub.execute_input": "2023-07-06T18:09:23.842428Z",
     "iopub.status.busy": "2023-07-06T18:09:23.841799Z",
     "iopub.status.idle": "2023-07-06T18:12:05.274580Z",
     "shell.execute_reply": "2023-07-06T18:12:05.273446Z",
     "shell.execute_reply.started": "2023-07-06T18:09:23.842369Z"
    }
   },
   "outputs": [
    {
     "name": "stdout",
     "output_type": "stream",
     "text": [
      "Mejor score para la mejor configuracion de parametros:  0.7895651189685294\n",
      "Mejor configuración de parámetros:  {'model__C': 0.95, 'preprocessor__columntransform__num__imputer__n_neighbors': 10, 'preprocessor__columntransform__num__imputer__weights': 'uniform'}\n"
     ]
    }
   ],
   "source": [
    "model = SVC(random_state=seed)\n",
    "\n",
    "parameters = {}\n",
    "parameters['model__C'] = [0.75, 0.85, 0.95, 1]\n",
    "\n",
    "svm = fitCV(model, parameters, X_train, y_train)"
   ]
  },
  {
   "cell_type": "markdown",
   "metadata": {},
   "source": [
    "## Regresión logística"
   ]
  },
  {
   "cell_type": "code",
   "execution_count": 48,
   "metadata": {
    "execution": {
     "iopub.execute_input": "2023-07-06T18:14:34.106199Z",
     "iopub.status.busy": "2023-07-06T18:14:34.105758Z",
     "iopub.status.idle": "2023-07-06T18:18:09.496568Z",
     "shell.execute_reply": "2023-07-06T18:18:09.495445Z",
     "shell.execute_reply.started": "2023-07-06T18:14:34.106159Z"
    }
   },
   "outputs": [
    {
     "name": "stdout",
     "output_type": "stream",
     "text": [
      "Mejor score para la mejor configuracion de parametros:  0.793351541546714\n",
      "Mejor configuración de parámetros:  {'model__C': 0.85, 'model__class_weight': None, 'model__penalty': 'l2', 'preprocessor__columntransform__num__imputer__n_neighbors': 5, 'preprocessor__columntransform__num__imputer__weights': 'uniform'}\n"
     ]
    }
   ],
   "source": [
    "model = LogisticRegression(solver='liblinear', random_state=seed)\n",
    "\n",
    "parameters = {}\n",
    "parameters['model__penalty'] = ['l1', 'l2']\n",
    "parameters['model__C'] = [0.75, 0.85, 0.95, 1]\n",
    "parameters['model__class_weight'] = [None, 'balanced']\n",
    "\n",
    "logistic_regression = fitCV(model, parameters, X_train, y_train)"
   ]
  },
  {
   "cell_type": "markdown",
   "metadata": {},
   "source": [
    "## Árbol de decisión"
   ]
  },
  {
   "cell_type": "code",
   "execution_count": 49,
   "metadata": {
    "execution": {
     "iopub.execute_input": "2023-07-06T18:18:55.153423Z",
     "iopub.status.busy": "2023-07-06T18:18:55.152446Z",
     "iopub.status.idle": "2023-07-06T18:24:48.431652Z",
     "shell.execute_reply": "2023-07-06T18:24:48.430745Z",
     "shell.execute_reply.started": "2023-07-06T18:18:55.153364Z"
    }
   },
   "outputs": [
    {
     "name": "stdout",
     "output_type": "stream",
     "text": [
      "Mejor score para la mejor configuracion de parametros:  0.7894244728230112\n",
      "Mejor configuración de parámetros:  {'model__ccp_alpha': 0.0, 'model__criterion': 'gini', 'model__max_depth': 6, 'preprocessor__columntransform__num__imputer__n_neighbors': 10, 'preprocessor__columntransform__num__imputer__weights': 'uniform'}\n"
     ]
    }
   ],
   "source": [
    "model = DecisionTreeClassifier(random_state=seed)\n",
    "\n",
    "parameters = {}\n",
    "parameters['model__criterion'] = ['gini', 'entropy']\n",
    "parameters['model__ccp_alpha'] = [0.0, 0.1, 0.2]\n",
    "parameters['model__max_depth'] = [5, 6, 10, 20]\n",
    "\n",
    "decision_tree = fitCV(model, parameters, X_train, y_train)"
   ]
  },
  {
   "cell_type": "markdown",
   "metadata": {},
   "source": [
    "## Ada boost"
   ]
  },
  {
   "cell_type": "code",
   "execution_count": 50,
   "metadata": {
    "execution": {
     "iopub.execute_input": "2023-07-06T18:24:48.433210Z",
     "iopub.status.busy": "2023-07-06T18:24:48.432883Z",
     "iopub.status.idle": "2023-07-06T18:48:42.912497Z",
     "shell.execute_reply": "2023-07-06T18:48:42.911253Z",
     "shell.execute_reply.started": "2023-07-06T18:24:48.433183Z"
    }
   },
   "outputs": [
    {
     "name": "stdout",
     "output_type": "stream",
     "text": [
      "Mejor score para la mejor configuracion de parametros:  0.7905466893039049\n",
      "Mejor configuración de parámetros:  {'model__estimator': DecisionTreeClassifier(criterion='entropy', max_depth=1, random_state=42), 'model__estimator__criterion': 'entropy', 'model__estimator__max_depth': 1, 'model__learning_rate': 1.0, 'model__n_estimators': 100, 'preprocessor__columntransform__num__imputer__n_neighbors': 10, 'preprocessor__columntransform__num__imputer__weights': 'uniform'}\n"
     ]
    }
   ],
   "source": [
    "model = AdaBoostClassifier(random_state=seed)\n",
    "\n",
    "base_estimator = DecisionTreeClassifier(random_state=seed)\n",
    "parameters = {}\n",
    "parameters['model__estimator'] = [base_estimator]\n",
    "parameters['model__n_estimators'] = [50, 100, 200]\n",
    "parameters['model__learning_rate'] = [0.95, 1.0]\n",
    "parameters['model__estimator__max_depth'] = [1, 2]\n",
    "parameters['model__estimator__criterion'] = ['gini', 'entropy']\n",
    "\n",
    "\n",
    "ada = fitCV(model, parameters, X_train, y_train)"
   ]
  },
  {
   "cell_type": "markdown",
   "metadata": {},
   "source": [
    "## Bagging"
   ]
  },
  {
   "cell_type": "code",
   "execution_count": 51,
   "metadata": {
    "execution": {
     "iopub.execute_input": "2023-07-06T18:48:42.914549Z",
     "iopub.status.busy": "2023-07-06T18:48:42.914101Z",
     "iopub.status.idle": "2023-07-06T19:01:16.755410Z",
     "shell.execute_reply": "2023-07-06T19:01:16.754489Z",
     "shell.execute_reply.started": "2023-07-06T18:48:42.914489Z"
    }
   },
   "outputs": [
    {
     "name": "stdout",
     "output_type": "stream",
     "text": [
      "Mejor score para la mejor configuracion de parametros:  0.7920898599936026\n",
      "Mejor configuración de parámetros:  {'model__estimator': DecisionTreeClassifier(criterion='entropy', max_depth=10, random_state=42), 'model__estimator__criterion': 'entropy', 'model__estimator__max_depth': 10, 'model__n_estimators': 200, 'preprocessor__columntransform__num__imputer__n_neighbors': 10, 'preprocessor__columntransform__num__imputer__weights': 'uniform'}\n"
     ]
    }
   ],
   "source": [
    "model = BaggingClassifier(random_state=seed)\n",
    "\n",
    "base_estimator = DecisionTreeClassifier(random_state=seed)\n",
    "parameters = {}\n",
    "parameters['model__estimator'] = [base_estimator]\n",
    "parameters['model__n_estimators'] = [50, 100, 200]\n",
    "\n",
    "parameters['model__estimator__max_depth'] = [1, 4, 10]\n",
    "parameters['model__estimator__criterion'] = ['gini', 'entropy']\n",
    "\n",
    "bagging = fitCV(model, parameters, X_train, y_train)"
   ]
  },
  {
   "cell_type": "markdown",
   "metadata": {},
   "source": [
    "## Random forest"
   ]
  },
  {
   "cell_type": "code",
   "execution_count": 52,
   "metadata": {
    "execution": {
     "iopub.execute_input": "2023-07-06T19:01:16.757502Z",
     "iopub.status.busy": "2023-07-06T19:01:16.756605Z",
     "iopub.status.idle": "2023-07-06T19:14:22.943480Z",
     "shell.execute_reply": "2023-07-06T19:14:22.942265Z",
     "shell.execute_reply.started": "2023-07-06T19:01:16.757468Z"
    }
   },
   "outputs": [
    {
     "name": "stdout",
     "output_type": "stream",
     "text": [
      "Mejor score para la mejor configuracion de parametros:  0.7946141089048007\n",
      "Mejor configuración de parámetros:  {'model__criterion': 'gini', 'model__max_features': 'log2', 'model__min_samples_split': 10, 'model__n_estimators': 200, 'preprocessor__columntransform__num__imputer__n_neighbors': 10, 'preprocessor__columntransform__num__imputer__weights': 'distance'}\n"
     ]
    }
   ],
   "source": [
    "model = RandomForestClassifier(random_state=seed)\n",
    "\n",
    "parameters = {}\n",
    "parameters['model__n_estimators'] = [50, 100, 200]\n",
    "parameters['model__max_features'] = ['sqrt', 'log2']\n",
    "parameters['model__min_samples_split'] = [5, 10]\n",
    "parameters['model__criterion'] = ['gini', 'entropy']\n",
    "\n",
    "random_forest = fitCV(model, parameters, X_train, y_train)"
   ]
  },
  {
   "cell_type": "markdown",
   "metadata": {},
   "source": [
    "## Gradient Boosting"
   ]
  },
  {
   "cell_type": "code",
   "execution_count": 53,
   "metadata": {
    "execution": {
     "iopub.execute_input": "2023-07-06T19:14:22.945159Z",
     "iopub.status.busy": "2023-07-06T19:14:22.944872Z",
     "iopub.status.idle": "2023-07-06T19:18:59.213990Z",
     "shell.execute_reply": "2023-07-06T19:18:59.212405Z",
     "shell.execute_reply.started": "2023-07-06T19:14:22.945133Z"
    }
   },
   "outputs": [
    {
     "name": "stdout",
     "output_type": "stream",
     "text": [
      "Mejor score para la mejor configuracion de parametros:  0.7897054698457223\n",
      "Mejor configuración de parámetros:  {'model__criterion': 'friedman_mse', 'model__learning_rate': 0.1, 'model__max_depth': 2, 'preprocessor__columntransform__num__imputer__n_neighbors': 10, 'preprocessor__columntransform__num__imputer__weights': 'distance'}\n"
     ]
    }
   ],
   "source": [
    "model= GradientBoostingClassifier()\n",
    "\n",
    "parameters = {}\n",
    "parameters['model__learning_rate'] = [0.01, 0.05, 0.1]\n",
    "parameters['model__max_depth'] = [1, 2]\n",
    "parameters['model__criterion'] = ['friedman_mse', 'squared_error']\n",
    "\n",
    "gradient_boosting = fitCV(model, parameters, X_train, y_train)"
   ]
  },
  {
   "cell_type": "markdown",
   "metadata": {},
   "source": [
    "## Histogram Gradient Boosting"
   ]
  },
  {
   "cell_type": "code",
   "execution_count": 54,
   "metadata": {
    "execution": {
     "iopub.execute_input": "2023-07-06T19:18:59.217306Z",
     "iopub.status.busy": "2023-07-06T19:18:59.216803Z",
     "iopub.status.idle": "2023-07-06T19:23:02.667626Z",
     "shell.execute_reply": "2023-07-06T19:23:02.666699Z",
     "shell.execute_reply.started": "2023-07-06T19:18:59.217258Z"
    }
   },
   "outputs": [
    {
     "name": "stdout",
     "output_type": "stream",
     "text": [
      "Mejor score para la mejor configuracion de parametros:  0.8020518195910533\n",
      "Mejor configuración de parámetros:  {'model__learning_rate': 0.1, 'model__max_leaf_nodes': 10, 'preprocessor__columntransform__num__imputer__n_neighbors': 10, 'preprocessor__columntransform__num__imputer__weights': 'uniform'}\n"
     ]
    }
   ],
   "source": [
    "model = HistGradientBoostingClassifier(random_state=seed)\n",
    "\n",
    "parameters = {}\n",
    "parameters['model__learning_rate'] = [0.01, 0.05, 0.1]\n",
    "parameters['model__max_leaf_nodes'] = [5, 10, 15, 31]\n",
    "\n",
    "hist_gradient_boosting = fitCV(model, parameters, X_train, y_train)"
   ]
  },
  {
   "cell_type": "markdown",
   "metadata": {},
   "source": [
    "# 6. Validación y modelo final\n",
    "\n",
    "Ahora vamos a evaluar los modelos obtenidos utilizando el conjunto de datos de validación. Para ello vamos a visualizar el `accuracy` obtenido para los datos de entrenamiento y de validación."
   ]
  },
  {
   "cell_type": "code",
   "execution_count": 55,
   "metadata": {
    "execution": {
     "iopub.execute_input": "2023-07-06T19:23:02.670643Z",
     "iopub.status.busy": "2023-07-06T19:23:02.669768Z",
     "iopub.status.idle": "2023-07-06T19:23:02.677481Z",
     "shell.execute_reply": "2023-07-06T19:23:02.676649Z",
     "shell.execute_reply.started": "2023-07-06T19:23:02.670598Z"
    }
   },
   "outputs": [],
   "source": [
    "models = [('SVM', svm),('logistic_regression', logistic_regression), ('decision_tree', decision_tree),\n",
    "    ('ada_boost', ada), ('bagging', bagging), ('random_forest', random_forest), ('gradient_boosting', gradient_boosting), ('histogram_gradient_boosting', hist_gradient_boosting)]"
   ]
  },
  {
   "cell_type": "code",
   "execution_count": 56,
   "metadata": {
    "execution": {
     "iopub.execute_input": "2023-07-06T19:23:02.679757Z",
     "iopub.status.busy": "2023-07-06T19:23:02.678992Z",
     "iopub.status.idle": "2023-07-06T19:23:14.510350Z",
     "shell.execute_reply": "2023-07-06T19:23:14.508659Z",
     "shell.execute_reply.started": "2023-07-06T19:23:02.679721Z"
    }
   },
   "outputs": [
    {
     "name": "stdout",
     "output_type": "stream",
     "text": [
      "Accuracy:\n",
      "SVM\n",
      "\tTrain score:  0.7955948372615039\n",
      "\tValidation score:  0.7961661341853035\n",
      "logistic_regression\n",
      "\tTrain score:  0.7934904601571269\n",
      "\tValidation score:  0.7865814696485623\n",
      "decision_tree\n",
      "\tTrain score:  0.8066778900112234\n",
      "\tValidation score:  0.7808306709265176\n",
      "ada_boost\n",
      "\tTrain score:  0.7971380471380471\n",
      "\tValidation score:  0.789776357827476\n",
      "bagging\n",
      "\tTrain score:  0.8688271604938271\n",
      "\tValidation score:  0.7936102236421725\n",
      "random_forest\n",
      "\tTrain score:  0.8947811447811448\n",
      "\tValidation score:  0.7993610223642172\n",
      "gradient_boosting\n",
      "\tTrain score:  0.8000841750841751\n",
      "\tValidation score:  0.7968051118210863\n",
      "histogram_gradient_boosting\n",
      "\tTrain score:  0.824354657687991\n",
      "\tValidation score:  0.802555910543131\n"
     ]
    }
   ],
   "source": [
    "print('Accuracy:')\n",
    "for (name, m) in models:\n",
    "    print(name)\n",
    "    print('\\tTrain score: ', m.score(X_train, y_train))\n",
    "    print('\\tValidation score: ', m.score(X_val, y_val))"
   ]
  },
  {
   "cell_type": "markdown",
   "metadata": {},
   "source": [
    "Vemos que los que mejor resultados ofrecen son los ensembles (bagging, random forest, histogram gradient boosting). Lo mejor es que parece que no contienen casi sobreajuste (buenos resultados para los datos de entrenamiento y buenos resultados para los datos de validación).\n",
    "\n",
    "Los modelos de `bagging` y `random_forest` son los modelos que mejor accuracy han obtenido para los datos de entrenamiento, aunque el accuracy obtenido para los datos de validación ha sido algo menor, por lo que cuentan con un poco de sobreajuste.\n",
    "\n",
    "Parece que el modelo que mejores resultados ha obtenido es el `histogram_gradient_boosting` porque ha obtenido un 80% de accuracy para los datos de validación, y es un accuracy muy similar al obtenido para los datos de entrenamiento."
   ]
  },
  {
   "cell_type": "markdown",
   "metadata": {},
   "source": [
    "## Modelo final\n",
    "\n",
    "Ahora se va a construir un modelo final que va a consistir en la unión de los mejores modelos obtenidos, aplicando un voto por la mayoría para predecir la clase que la mayoría de los modelos predigan."
   ]
  },
  {
   "cell_type": "code",
   "execution_count": 57,
   "metadata": {
    "execution": {
     "iopub.execute_input": "2023-07-06T19:23:14.526567Z",
     "iopub.status.busy": "2023-07-06T19:23:14.525974Z",
     "iopub.status.idle": "2023-07-06T19:23:14.539653Z",
     "shell.execute_reply": "2023-07-06T19:23:14.538296Z",
     "shell.execute_reply.started": "2023-07-06T19:23:14.526528Z"
    }
   },
   "outputs": [],
   "source": [
    "estimators = [('bagging', bagging), ('random_forest', random_forest), \n",
    "              ('gradient_boosting', gradient_boosting), ('histogram_gradient_boosting', hist_gradient_boosting)]\n",
    "\n",
    "voting_classfication = VotingClassifier(estimators=estimators, voting=\"hard\", n_jobs=-1)"
   ]
  },
  {
   "cell_type": "markdown",
   "metadata": {},
   "source": [
    "Mostramos el `accuracy` obtenido por este modelo final y su matriz de confusión:"
   ]
  },
  {
   "cell_type": "code",
   "execution_count": 58,
   "metadata": {
    "execution": {
     "iopub.execute_input": "2023-07-06T19:23:14.542194Z",
     "iopub.status.busy": "2023-07-06T19:23:14.541801Z",
     "iopub.status.idle": "2023-07-06T19:23:31.813567Z",
     "shell.execute_reply": "2023-07-06T19:23:31.812563Z",
     "shell.execute_reply.started": "2023-07-06T19:23:14.542159Z"
    }
   },
   "outputs": [
    {
     "name": "stdout",
     "output_type": "stream",
     "text": [
      "Train score:  0.8522727272727273\n",
      "Val score:  0.8038338658146965\n"
     ]
    }
   ],
   "source": [
    "voting_classfication.fit(X_train, y_train)\n",
    "\n",
    "print('Train score: ', voting_classfication.score(X_train, y_train))\n",
    "print('Val score: ', voting_classfication.score(X_val, y_val))"
   ]
  },
  {
   "cell_type": "code",
   "execution_count": 59,
   "metadata": {
    "execution": {
     "iopub.execute_input": "2023-07-06T19:23:31.815912Z",
     "iopub.status.busy": "2023-07-06T19:23:31.815484Z",
     "iopub.status.idle": "2023-07-06T19:23:31.824063Z",
     "shell.execute_reply": "2023-07-06T19:23:31.822893Z",
     "shell.execute_reply.started": "2023-07-06T19:23:31.815864Z"
    }
   },
   "outputs": [],
   "source": [
    "def show_results(y, y_pred):\n",
    "    c_mat = confusion_matrix(y, y_pred)\n",
    "    sns.heatmap(c_mat, square=True, annot=True, fmt='d', cbar=True, cmap=plt.cm.Blues)\n",
    "    plt.ylabel('Clase real')\n",
    "    plt.xlabel('Predicción');\n",
    "    plt.gca().set_ylim(2.0, 0)\n",
    "    plt.show()"
   ]
  },
  {
   "cell_type": "code",
   "execution_count": 60,
   "metadata": {
    "execution": {
     "iopub.execute_input": "2023-07-06T19:23:31.826879Z",
     "iopub.status.busy": "2023-07-06T19:23:31.825785Z",
     "iopub.status.idle": "2023-07-06T19:23:33.726213Z",
     "shell.execute_reply": "2023-07-06T19:23:33.725397Z",
     "shell.execute_reply.started": "2023-07-06T19:23:31.826839Z"
    }
   },
   "outputs": [
    {
     "data": {
      "image/png": "[encoded data removed]",
      "text/plain": [
       "<Figure size 432x288 with 2 Axes>"
      ]
     },
     "metadata": {
      "needs_background": "light"
     },
     "output_type": "display_data"
    }
   ],
   "source": [
    "show_results(y_val, voting_classfication.predict(X_val))"
   ]
  },
  {
   "cell_type": "markdown",
   "metadata": {},
   "source": [
    "Se han obtenido unos buenos resultados con un 80 % para los datos de validación, y con muy poco sobreajuste ya que para los datos de entrenamiento se ha obtenido casi un 85 %."
   ]
  },
  {
   "cell_type": "markdown",
   "metadata": {},
   "source": [
    "# 7. Predicción test\n",
    "\n",
    "Para acabar con este cuaderno vamos predecir el conjunto de datos de test. Para ello leemos los datos del `.csv`."
   ]
  },
  {
   "cell_type": "code",
   "execution_count": 61,
   "metadata": {
    "execution": {
     "iopub.execute_input": "2023-07-06T19:23:33.728603Z",
     "iopub.status.busy": "2023-07-06T19:23:33.727915Z",
     "iopub.status.idle": "2023-07-06T19:23:33.772646Z",
     "shell.execute_reply": "2023-07-06T19:23:33.771441Z",
     "shell.execute_reply.started": "2023-07-06T19:23:33.728559Z"
    }
   },
   "outputs": [
    {
     "data": {
      "text/html": [
       "<div>\n",
       "<style scoped>\n",
       "    .dataframe tbody tr th:only-of-type {\n",
       "        vertical-align: middle;\n",
       "    }\n",
       "\n",
       "    .dataframe tbody tr th {\n",
       "        vertical-align: top;\n",
       "    }\n",
       "\n",
       "    .dataframe thead th {\n",
       "        text-align: right;\n",
       "    }\n",
       "</style>\n",
       "<table border=\"1\" class=\"dataframe\">\n",
       "  <thead>\n",
       "    <tr style=\"text-align: right;\">\n",
       "      <th></th>\n",
       "      <th>PassengerId</th>\n",
       "      <th>HomePlanet</th>\n",
       "      <th>CryoSleep</th>\n",
       "      <th>Cabin</th>\n",
       "      <th>Destination</th>\n",
       "      <th>Age</th>\n",
       "      <th>VIP</th>\n",
       "      <th>RoomService</th>\n",
       "      <th>FoodCourt</th>\n",
       "      <th>ShoppingMall</th>\n",
       "      <th>Spa</th>\n",
       "      <th>VRDeck</th>\n",
       "      <th>Name</th>\n",
       "    </tr>\n",
       "  </thead>\n",
       "  <tbody>\n",
       "    <tr>\n",
       "      <th>544</th>\n",
       "      <td>1135_02</td>\n",
       "      <td>Europa</td>\n",
       "      <td>False</td>\n",
       "      <td>NaN</td>\n",
       "      <td>55 Cancri e</td>\n",
       "      <td>61.0</td>\n",
       "      <td>False</td>\n",
       "      <td>26.0</td>\n",
       "      <td>3606.0</td>\n",
       "      <td>NaN</td>\n",
       "      <td>0.0</td>\n",
       "      <td>138.0</td>\n",
       "      <td>Toperon Coarswing</td>\n",
       "    </tr>\n",
       "    <tr>\n",
       "      <th>410</th>\n",
       "      <td>0858_02</td>\n",
       "      <td>Mars</td>\n",
       "      <td>True</td>\n",
       "      <td>F/178/P</td>\n",
       "      <td>TRAPPIST-1e</td>\n",
       "      <td>23.0</td>\n",
       "      <td>False</td>\n",
       "      <td>0.0</td>\n",
       "      <td>0.0</td>\n",
       "      <td>0.0</td>\n",
       "      <td>0.0</td>\n",
       "      <td>NaN</td>\n",
       "      <td>Hion Mad</td>\n",
       "    </tr>\n",
       "    <tr>\n",
       "      <th>2554</th>\n",
       "      <td>5588_01</td>\n",
       "      <td>Mars</td>\n",
       "      <td>False</td>\n",
       "      <td>F/1066/S</td>\n",
       "      <td>TRAPPIST-1e</td>\n",
       "      <td>24.0</td>\n",
       "      <td>False</td>\n",
       "      <td>18.0</td>\n",
       "      <td>25.0</td>\n",
       "      <td>0.0</td>\n",
       "      <td>0.0</td>\n",
       "      <td>1256.0</td>\n",
       "      <td>Weres Cola</td>\n",
       "    </tr>\n",
       "    <tr>\n",
       "      <th>1281</th>\n",
       "      <td>2731_01</td>\n",
       "      <td>Earth</td>\n",
       "      <td>True</td>\n",
       "      <td>G/434/S</td>\n",
       "      <td>TRAPPIST-1e</td>\n",
       "      <td>24.0</td>\n",
       "      <td>NaN</td>\n",
       "      <td>0.0</td>\n",
       "      <td>0.0</td>\n",
       "      <td>0.0</td>\n",
       "      <td>0.0</td>\n",
       "      <td>0.0</td>\n",
       "      <td>Rone Fersongs</td>\n",
       "    </tr>\n",
       "    <tr>\n",
       "      <th>598</th>\n",
       "      <td>1227_01</td>\n",
       "      <td>Europa</td>\n",
       "      <td>True</td>\n",
       "      <td>E/88/S</td>\n",
       "      <td>TRAPPIST-1e</td>\n",
       "      <td>28.0</td>\n",
       "      <td>False</td>\n",
       "      <td>0.0</td>\n",
       "      <td>0.0</td>\n",
       "      <td>0.0</td>\n",
       "      <td>0.0</td>\n",
       "      <td>NaN</td>\n",
       "      <td>Anchib Spedlybood</td>\n",
       "    </tr>\n",
       "  </tbody>\n",
       "</table>\n",
       "</div>"
      ],
      "text/plain": [
       "     PassengerId HomePlanet CryoSleep     Cabin  Destination   Age    VIP  \\\n",
       "544      1135_02     Europa     False       NaN  55 Cancri e  61.0  False   \n",
       "410      0858_02       Mars      True   F/178/P  TRAPPIST-1e  23.0  False   \n",
       "2554     5588_01       Mars     False  F/1066/S  TRAPPIST-1e  24.0  False   \n",
       "1281     2731_01      Earth      True   G/434/S  TRAPPIST-1e  24.0    NaN   \n",
       "598      1227_01     Europa      True    E/88/S  TRAPPIST-1e  28.0  False   \n",
       "\n",
       "      RoomService  FoodCourt  ShoppingMall  Spa  VRDeck               Name  \n",
       "544          26.0     3606.0           NaN  0.0   138.0  Toperon Coarswing  \n",
       "410           0.0        0.0           0.0  0.0     NaN           Hion Mad  \n",
       "2554         18.0       25.0           0.0  0.0  1256.0         Weres Cola  \n",
       "1281          0.0        0.0           0.0  0.0     0.0      Rone Fersongs  \n",
       "598           0.0        0.0           0.0  0.0     NaN  Anchib Spedlybood  "
      ]
     },
     "execution_count": 61,
     "metadata": {},
     "output_type": "execute_result"
    }
   ],
   "source": [
    "filepath = 'test.csv'\n",
    "test = pd.read_csv(filepath)\n",
    "test.sample(5, random_state=seed)"
   ]
  },
  {
   "cell_type": "markdown",
   "metadata": {},
   "source": [
    "Utilizamos el modelo final para predecir estos datos y construimos un dataframe con el formato requerido en la competición de kaggle."
   ]
  },
  {
   "cell_type": "code",
   "execution_count": 62,
   "metadata": {
    "execution": {
     "iopub.execute_input": "2023-07-06T19:23:33.775186Z",
     "iopub.status.busy": "2023-07-06T19:23:33.774450Z",
     "iopub.status.idle": "2023-07-06T19:23:37.232959Z",
     "shell.execute_reply": "2023-07-06T19:23:37.232156Z",
     "shell.execute_reply.started": "2023-07-06T19:23:33.775142Z"
    }
   },
   "outputs": [],
   "source": [
    "pred = voting_classfication.predict(test)"
   ]
  },
  {
   "cell_type": "code",
   "execution_count": 63,
   "metadata": {
    "execution": {
     "iopub.execute_input": "2023-07-06T19:23:37.235229Z",
     "iopub.status.busy": "2023-07-06T19:23:37.234586Z",
     "iopub.status.idle": "2023-07-06T19:23:37.243216Z",
     "shell.execute_reply": "2023-07-06T19:23:37.242171Z",
     "shell.execute_reply.started": "2023-07-06T19:23:37.235188Z"
    }
   },
   "outputs": [],
   "source": [
    "transported = pd.Series(pred, name='Transported')\n",
    "submission = pd.concat([test['PassengerId'], transported], axis=1)"
   ]
  },
  {
   "cell_type": "code",
   "execution_count": 64,
   "metadata": {
    "execution": {
     "iopub.execute_input": "2023-07-06T19:23:37.245757Z",
     "iopub.status.busy": "2023-07-06T19:23:37.245321Z",
     "iopub.status.idle": "2023-07-06T19:23:37.261717Z",
     "shell.execute_reply": "2023-07-06T19:23:37.260558Z",
     "shell.execute_reply.started": "2023-07-06T19:23:37.245716Z"
    }
   },
   "outputs": [
    {
     "data": {
      "text/html": [
       "<div>\n",
       "<style scoped>\n",
       "    .dataframe tbody tr th:only-of-type {\n",
       "        vertical-align: middle;\n",
       "    }\n",
       "\n",
       "    .dataframe tbody tr th {\n",
       "        vertical-align: top;\n",
       "    }\n",
       "\n",
       "    .dataframe thead th {\n",
       "        text-align: right;\n",
       "    }\n",
       "</style>\n",
       "<table border=\"1\" class=\"dataframe\">\n",
       "  <thead>\n",
       "    <tr style=\"text-align: right;\">\n",
       "      <th></th>\n",
       "      <th>PassengerId</th>\n",
       "      <th>Transported</th>\n",
       "    </tr>\n",
       "  </thead>\n",
       "  <tbody>\n",
       "    <tr>\n",
       "      <th>544</th>\n",
       "      <td>1135_02</td>\n",
       "      <td>True</td>\n",
       "    </tr>\n",
       "    <tr>\n",
       "      <th>410</th>\n",
       "      <td>0858_02</td>\n",
       "      <td>True</td>\n",
       "    </tr>\n",
       "    <tr>\n",
       "      <th>2554</th>\n",
       "      <td>5588_01</td>\n",
       "      <td>False</td>\n",
       "    </tr>\n",
       "    <tr>\n",
       "      <th>1281</th>\n",
       "      <td>2731_01</td>\n",
       "      <td>True</td>\n",
       "    </tr>\n",
       "    <tr>\n",
       "      <th>598</th>\n",
       "      <td>1227_01</td>\n",
       "      <td>True</td>\n",
       "    </tr>\n",
       "  </tbody>\n",
       "</table>\n",
       "</div>"
      ],
      "text/plain": [
       "     PassengerId  Transported\n",
       "544      1135_02         True\n",
       "410      0858_02         True\n",
       "2554     5588_01        False\n",
       "1281     2731_01         True\n",
       "598      1227_01         True"
      ]
     },
     "execution_count": 64,
     "metadata": {},
     "output_type": "execute_result"
    }
   ],
   "source": [
    "submission.sample(5, random_state=seed)"
   ]
  },
  {
   "cell_type": "code",
   "execution_count": 65,
   "metadata": {
    "execution": {
     "iopub.execute_input": "2023-07-06T19:23:37.264338Z",
     "iopub.status.busy": "2023-07-06T19:23:37.263586Z",
     "iopub.status.idle": "2023-07-06T19:23:37.287874Z",
     "shell.execute_reply": "2023-07-06T19:23:37.286898Z",
     "shell.execute_reply.started": "2023-07-06T19:23:37.264298Z"
    }
   },
   "outputs": [],
   "source": [
    "submission.to_csv('submission.csv', index=False)"
   ]
  },
  {
   "cell_type": "markdown",
   "metadata": {},
   "source": [
    "Finalmente, generamos un archivo `submission.csv` con las predicciones. Con estas predicciones se ha obtenido un `accuracy` de 80.383 % para el conjunto de test en la competición de kaggle, el cual es muy buen `accuracy`.\n",
    "\n",
    "Podemos observar que es un valor muy similar que el obtenido para los datos de validación. Eso es debido a que hemos eliminado el sobreajuste en los modelos definidos."
   ]
  }
 ],
 "metadata": {
  "kernelspec": {
   "display_name": "Python 3 (ipykernel)",
   "language": "python",
   "name": "python3"
  },
  "language_info": {
   "codemirror_mode": {
    "name": "ipython",
    "version": 3
   },
   "file_extension": ".py",
   "mimetype": "text/x-python",
   "name": "python",
   "nbconvert_exporter": "python",
   "pygments_lexer": "ipython3",
   "version": "3.10.4"
  }
 },
 "nbformat": 4,
 "nbformat_minor": 4
}
